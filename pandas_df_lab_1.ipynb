{
  "nbformat": 4,
  "nbformat_minor": 0,
  "metadata": {
    "colab": {
      "provenance": [],
      "name": "pandas_df_lab_1.ipynb",
      "include_colab_link": true
    },
    "kernelspec": {
      "name": "python3",
      "display_name": "Python 3"
    },
    "language_info": {
      "name": "python"
    }
  },
  "cells": [
    {
      "cell_type": "markdown",
      "metadata": {
        "id": "view-in-github",
        "colab_type": "text"
      },
      "source": [
        "<a href=\"https://colab.research.google.com/github/Meder22/index/blob/Pandas/pandas_df_lab_1.ipynb\" target=\"_parent\"><img src=\"https://colab.research.google.com/assets/colab-badge.svg\" alt=\"Open In Colab\"/></a>"
      ]
    },
    {
      "cell_type": "code",
      "execution_count": 4,
      "metadata": {
        "id": "tntUgBn8imCi"
      },
      "outputs": [],
      "source": [
        "import pandas as pd\n",
        "import numpy as np\n",
        "import seaborn as sns\n",
        "import matplotlib.pyplot as plt"
      ]
    },
    {
      "cell_type": "markdown",
      "source": [
        "# Задача 1\n",
        "\n",
        "Перед вами сгенеренные массивы данных по пользователям сотового оператора. Создайте датафрейм с автоматической индексацией любым способом, который будет иметь колонки:\n",
        "\n",
        "* `id` - уникальный ID абонента\n",
        "\n",
        "* `age` - возраст абонента\n",
        "\n",
        "* `calls_month` - среднее количество звонков, совершаемое абонентом в месяц\n",
        "\n",
        "* `city` - город проживания\n",
        "\n",
        "\n",
        "\n",
        "---\n",
        "Проверьте ID на предмет возможных ошибок. Какого рода такие ошибки могут быть?\n",
        "\n",
        "Выведите его размерность и описательные статистики.\n",
        "\n",
        "Покажите графически, есть ли какая-либо взаимосвязь двух признаков\n",
        "* `age`\n",
        "* `calls_month`"
      ],
      "metadata": {
        "id": "zGQkUMwflVrz"
      }
    },
    {
      "cell_type": "code",
      "source": [
        "n_rows = 500 # количество строк\n",
        "\n",
        "id = 'ID_' + pd.Series(np.random.choice(range(1000, 2001), size=n_rows, replace=False)).astype(str)\n",
        "age = pd.Series(np.random.randint(10, 65, n_rows))\n",
        "calls_month = (0.2* (age-30)**2 + 40 + np.random.randn(n_rows)*30).round().astype(int)\n",
        "city = [['Bishkek', 'Ohs', 'Naryn', 'Batken', 'Tokmak'][i] for i in np.random.randint(0, 5, n_rows)]\n",
        "\n",
        "columns = ['id', 'age', 'calls_month', 'city']\n",
        "data = [id, age, calls_month, city]"
      ],
      "metadata": {
        "id": "2ovU4pEkinIE"
      },
      "execution_count": 6,
      "outputs": []
    },
    {
      "cell_type": "code",
      "source": [
        "# your code"
      ],
      "metadata": {
        "id": "-9cw3x61J8Rs"
      },
      "execution_count": 7,
      "outputs": []
    },
    {
      "cell_type": "code",
      "source": [
        "df = pd.DataFrame(np.array(data).T, columns=columns)\n",
        "df"
      ],
      "metadata": {
        "id": "PxzMdstfinDl",
        "colab": {
          "base_uri": "https://localhost:8080/",
          "height": 423
        },
        "outputId": "ec1caa7c-7f7c-4f69-bc50-84c4f6c0fed0"
      },
      "execution_count": 8,
      "outputs": [
        {
          "output_type": "execute_result",
          "data": {
            "text/plain": [
              "          id age calls_month     city\n",
              "0    ID_1129  61         238  Bishkek\n",
              "1    ID_1682  40          53    Naryn\n",
              "2    ID_1646  30          33  Bishkek\n",
              "3    ID_1414  61         212   Tokmak\n",
              "4    ID_1978  26          12      Ohs\n",
              "..       ...  ..         ...      ...\n",
              "495  ID_1546  64         266      Ohs\n",
              "496  ID_1796  60         258   Tokmak\n",
              "497  ID_1581  23          61   Batken\n",
              "498  ID_1863  13         104   Batken\n",
              "499  ID_1165  50         134      Ohs\n",
              "\n",
              "[500 rows x 4 columns]"
            ],
            "text/html": [
              "\n",
              "  <div id=\"df-6ee8c1bf-5f53-49c2-9deb-79c1ad1f9fba\" class=\"colab-df-container\">\n",
              "    <div>\n",
              "<style scoped>\n",
              "    .dataframe tbody tr th:only-of-type {\n",
              "        vertical-align: middle;\n",
              "    }\n",
              "\n",
              "    .dataframe tbody tr th {\n",
              "        vertical-align: top;\n",
              "    }\n",
              "\n",
              "    .dataframe thead th {\n",
              "        text-align: right;\n",
              "    }\n",
              "</style>\n",
              "<table border=\"1\" class=\"dataframe\">\n",
              "  <thead>\n",
              "    <tr style=\"text-align: right;\">\n",
              "      <th></th>\n",
              "      <th>id</th>\n",
              "      <th>age</th>\n",
              "      <th>calls_month</th>\n",
              "      <th>city</th>\n",
              "    </tr>\n",
              "  </thead>\n",
              "  <tbody>\n",
              "    <tr>\n",
              "      <th>0</th>\n",
              "      <td>ID_1129</td>\n",
              "      <td>61</td>\n",
              "      <td>238</td>\n",
              "      <td>Bishkek</td>\n",
              "    </tr>\n",
              "    <tr>\n",
              "      <th>1</th>\n",
              "      <td>ID_1682</td>\n",
              "      <td>40</td>\n",
              "      <td>53</td>\n",
              "      <td>Naryn</td>\n",
              "    </tr>\n",
              "    <tr>\n",
              "      <th>2</th>\n",
              "      <td>ID_1646</td>\n",
              "      <td>30</td>\n",
              "      <td>33</td>\n",
              "      <td>Bishkek</td>\n",
              "    </tr>\n",
              "    <tr>\n",
              "      <th>3</th>\n",
              "      <td>ID_1414</td>\n",
              "      <td>61</td>\n",
              "      <td>212</td>\n",
              "      <td>Tokmak</td>\n",
              "    </tr>\n",
              "    <tr>\n",
              "      <th>4</th>\n",
              "      <td>ID_1978</td>\n",
              "      <td>26</td>\n",
              "      <td>12</td>\n",
              "      <td>Ohs</td>\n",
              "    </tr>\n",
              "    <tr>\n",
              "      <th>...</th>\n",
              "      <td>...</td>\n",
              "      <td>...</td>\n",
              "      <td>...</td>\n",
              "      <td>...</td>\n",
              "    </tr>\n",
              "    <tr>\n",
              "      <th>495</th>\n",
              "      <td>ID_1546</td>\n",
              "      <td>64</td>\n",
              "      <td>266</td>\n",
              "      <td>Ohs</td>\n",
              "    </tr>\n",
              "    <tr>\n",
              "      <th>496</th>\n",
              "      <td>ID_1796</td>\n",
              "      <td>60</td>\n",
              "      <td>258</td>\n",
              "      <td>Tokmak</td>\n",
              "    </tr>\n",
              "    <tr>\n",
              "      <th>497</th>\n",
              "      <td>ID_1581</td>\n",
              "      <td>23</td>\n",
              "      <td>61</td>\n",
              "      <td>Batken</td>\n",
              "    </tr>\n",
              "    <tr>\n",
              "      <th>498</th>\n",
              "      <td>ID_1863</td>\n",
              "      <td>13</td>\n",
              "      <td>104</td>\n",
              "      <td>Batken</td>\n",
              "    </tr>\n",
              "    <tr>\n",
              "      <th>499</th>\n",
              "      <td>ID_1165</td>\n",
              "      <td>50</td>\n",
              "      <td>134</td>\n",
              "      <td>Ohs</td>\n",
              "    </tr>\n",
              "  </tbody>\n",
              "</table>\n",
              "<p>500 rows × 4 columns</p>\n",
              "</div>\n",
              "    <div class=\"colab-df-buttons\">\n",
              "\n",
              "  <div class=\"colab-df-container\">\n",
              "    <button class=\"colab-df-convert\" onclick=\"convertToInteractive('df-6ee8c1bf-5f53-49c2-9deb-79c1ad1f9fba')\"\n",
              "            title=\"Convert this dataframe to an interactive table.\"\n",
              "            style=\"display:none;\">\n",
              "\n",
              "  <svg xmlns=\"http://www.w3.org/2000/svg\" height=\"24px\" viewBox=\"0 -960 960 960\">\n",
              "    <path d=\"M120-120v-720h720v720H120Zm60-500h600v-160H180v160Zm220 220h160v-160H400v160Zm0 220h160v-160H400v160ZM180-400h160v-160H180v160Zm440 0h160v-160H620v160ZM180-180h160v-160H180v160Zm440 0h160v-160H620v160Z\"/>\n",
              "  </svg>\n",
              "    </button>\n",
              "\n",
              "  <style>\n",
              "    .colab-df-container {\n",
              "      display:flex;\n",
              "      gap: 12px;\n",
              "    }\n",
              "\n",
              "    .colab-df-convert {\n",
              "      background-color: #E8F0FE;\n",
              "      border: none;\n",
              "      border-radius: 50%;\n",
              "      cursor: pointer;\n",
              "      display: none;\n",
              "      fill: #1967D2;\n",
              "      height: 32px;\n",
              "      padding: 0 0 0 0;\n",
              "      width: 32px;\n",
              "    }\n",
              "\n",
              "    .colab-df-convert:hover {\n",
              "      background-color: #E2EBFA;\n",
              "      box-shadow: 0px 1px 2px rgba(60, 64, 67, 0.3), 0px 1px 3px 1px rgba(60, 64, 67, 0.15);\n",
              "      fill: #174EA6;\n",
              "    }\n",
              "\n",
              "    .colab-df-buttons div {\n",
              "      margin-bottom: 4px;\n",
              "    }\n",
              "\n",
              "    [theme=dark] .colab-df-convert {\n",
              "      background-color: #3B4455;\n",
              "      fill: #D2E3FC;\n",
              "    }\n",
              "\n",
              "    [theme=dark] .colab-df-convert:hover {\n",
              "      background-color: #434B5C;\n",
              "      box-shadow: 0px 1px 3px 1px rgba(0, 0, 0, 0.15);\n",
              "      filter: drop-shadow(0px 1px 2px rgba(0, 0, 0, 0.3));\n",
              "      fill: #FFFFFF;\n",
              "    }\n",
              "  </style>\n",
              "\n",
              "    <script>\n",
              "      const buttonEl =\n",
              "        document.querySelector('#df-6ee8c1bf-5f53-49c2-9deb-79c1ad1f9fba button.colab-df-convert');\n",
              "      buttonEl.style.display =\n",
              "        google.colab.kernel.accessAllowed ? 'block' : 'none';\n",
              "\n",
              "      async function convertToInteractive(key) {\n",
              "        const element = document.querySelector('#df-6ee8c1bf-5f53-49c2-9deb-79c1ad1f9fba');\n",
              "        const dataTable =\n",
              "          await google.colab.kernel.invokeFunction('convertToInteractive',\n",
              "                                                    [key], {});\n",
              "        if (!dataTable) return;\n",
              "\n",
              "        const docLinkHtml = 'Like what you see? Visit the ' +\n",
              "          '<a target=\"_blank\" href=https://colab.research.google.com/notebooks/data_table.ipynb>data table notebook</a>'\n",
              "          + ' to learn more about interactive tables.';\n",
              "        element.innerHTML = '';\n",
              "        dataTable['output_type'] = 'display_data';\n",
              "        await google.colab.output.renderOutput(dataTable, element);\n",
              "        const docLink = document.createElement('div');\n",
              "        docLink.innerHTML = docLinkHtml;\n",
              "        element.appendChild(docLink);\n",
              "      }\n",
              "    </script>\n",
              "  </div>\n",
              "\n",
              "\n",
              "<div id=\"df-a092b354-fee7-4d19-891a-2a52d473cb65\">\n",
              "  <button class=\"colab-df-quickchart\" onclick=\"quickchart('df-a092b354-fee7-4d19-891a-2a52d473cb65')\"\n",
              "            title=\"Suggest charts\"\n",
              "            style=\"display:none;\">\n",
              "\n",
              "<svg xmlns=\"http://www.w3.org/2000/svg\" height=\"24px\"viewBox=\"0 0 24 24\"\n",
              "     width=\"24px\">\n",
              "    <g>\n",
              "        <path d=\"M19 3H5c-1.1 0-2 .9-2 2v14c0 1.1.9 2 2 2h14c1.1 0 2-.9 2-2V5c0-1.1-.9-2-2-2zM9 17H7v-7h2v7zm4 0h-2V7h2v10zm4 0h-2v-4h2v4z\"/>\n",
              "    </g>\n",
              "</svg>\n",
              "  </button>\n",
              "\n",
              "<style>\n",
              "  .colab-df-quickchart {\n",
              "      --bg-color: #E8F0FE;\n",
              "      --fill-color: #1967D2;\n",
              "      --hover-bg-color: #E2EBFA;\n",
              "      --hover-fill-color: #174EA6;\n",
              "      --disabled-fill-color: #AAA;\n",
              "      --disabled-bg-color: #DDD;\n",
              "  }\n",
              "\n",
              "  [theme=dark] .colab-df-quickchart {\n",
              "      --bg-color: #3B4455;\n",
              "      --fill-color: #D2E3FC;\n",
              "      --hover-bg-color: #434B5C;\n",
              "      --hover-fill-color: #FFFFFF;\n",
              "      --disabled-bg-color: #3B4455;\n",
              "      --disabled-fill-color: #666;\n",
              "  }\n",
              "\n",
              "  .colab-df-quickchart {\n",
              "    background-color: var(--bg-color);\n",
              "    border: none;\n",
              "    border-radius: 50%;\n",
              "    cursor: pointer;\n",
              "    display: none;\n",
              "    fill: var(--fill-color);\n",
              "    height: 32px;\n",
              "    padding: 0;\n",
              "    width: 32px;\n",
              "  }\n",
              "\n",
              "  .colab-df-quickchart:hover {\n",
              "    background-color: var(--hover-bg-color);\n",
              "    box-shadow: 0 1px 2px rgba(60, 64, 67, 0.3), 0 1px 3px 1px rgba(60, 64, 67, 0.15);\n",
              "    fill: var(--button-hover-fill-color);\n",
              "  }\n",
              "\n",
              "  .colab-df-quickchart-complete:disabled,\n",
              "  .colab-df-quickchart-complete:disabled:hover {\n",
              "    background-color: var(--disabled-bg-color);\n",
              "    fill: var(--disabled-fill-color);\n",
              "    box-shadow: none;\n",
              "  }\n",
              "\n",
              "  .colab-df-spinner {\n",
              "    border: 2px solid var(--fill-color);\n",
              "    border-color: transparent;\n",
              "    border-bottom-color: var(--fill-color);\n",
              "    animation:\n",
              "      spin 1s steps(1) infinite;\n",
              "  }\n",
              "\n",
              "  @keyframes spin {\n",
              "    0% {\n",
              "      border-color: transparent;\n",
              "      border-bottom-color: var(--fill-color);\n",
              "      border-left-color: var(--fill-color);\n",
              "    }\n",
              "    20% {\n",
              "      border-color: transparent;\n",
              "      border-left-color: var(--fill-color);\n",
              "      border-top-color: var(--fill-color);\n",
              "    }\n",
              "    30% {\n",
              "      border-color: transparent;\n",
              "      border-left-color: var(--fill-color);\n",
              "      border-top-color: var(--fill-color);\n",
              "      border-right-color: var(--fill-color);\n",
              "    }\n",
              "    40% {\n",
              "      border-color: transparent;\n",
              "      border-right-color: var(--fill-color);\n",
              "      border-top-color: var(--fill-color);\n",
              "    }\n",
              "    60% {\n",
              "      border-color: transparent;\n",
              "      border-right-color: var(--fill-color);\n",
              "    }\n",
              "    80% {\n",
              "      border-color: transparent;\n",
              "      border-right-color: var(--fill-color);\n",
              "      border-bottom-color: var(--fill-color);\n",
              "    }\n",
              "    90% {\n",
              "      border-color: transparent;\n",
              "      border-bottom-color: var(--fill-color);\n",
              "    }\n",
              "  }\n",
              "</style>\n",
              "\n",
              "  <script>\n",
              "    async function quickchart(key) {\n",
              "      const quickchartButtonEl =\n",
              "        document.querySelector('#' + key + ' button');\n",
              "      quickchartButtonEl.disabled = true;  // To prevent multiple clicks.\n",
              "      quickchartButtonEl.classList.add('colab-df-spinner');\n",
              "      try {\n",
              "        const charts = await google.colab.kernel.invokeFunction(\n",
              "            'suggestCharts', [key], {});\n",
              "      } catch (error) {\n",
              "        console.error('Error during call to suggestCharts:', error);\n",
              "      }\n",
              "      quickchartButtonEl.classList.remove('colab-df-spinner');\n",
              "      quickchartButtonEl.classList.add('colab-df-quickchart-complete');\n",
              "    }\n",
              "    (() => {\n",
              "      let quickchartButtonEl =\n",
              "        document.querySelector('#df-a092b354-fee7-4d19-891a-2a52d473cb65 button');\n",
              "      quickchartButtonEl.style.display =\n",
              "        google.colab.kernel.accessAllowed ? 'block' : 'none';\n",
              "    })();\n",
              "  </script>\n",
              "</div>\n",
              "\n",
              "  <div id=\"id_f734d356-1a3c-4cbd-8f45-37da7f067253\">\n",
              "    <style>\n",
              "      .colab-df-generate {\n",
              "        background-color: #E8F0FE;\n",
              "        border: none;\n",
              "        border-radius: 50%;\n",
              "        cursor: pointer;\n",
              "        display: none;\n",
              "        fill: #1967D2;\n",
              "        height: 32px;\n",
              "        padding: 0 0 0 0;\n",
              "        width: 32px;\n",
              "      }\n",
              "\n",
              "      .colab-df-generate:hover {\n",
              "        background-color: #E2EBFA;\n",
              "        box-shadow: 0px 1px 2px rgba(60, 64, 67, 0.3), 0px 1px 3px 1px rgba(60, 64, 67, 0.15);\n",
              "        fill: #174EA6;\n",
              "      }\n",
              "\n",
              "      [theme=dark] .colab-df-generate {\n",
              "        background-color: #3B4455;\n",
              "        fill: #D2E3FC;\n",
              "      }\n",
              "\n",
              "      [theme=dark] .colab-df-generate:hover {\n",
              "        background-color: #434B5C;\n",
              "        box-shadow: 0px 1px 3px 1px rgba(0, 0, 0, 0.15);\n",
              "        filter: drop-shadow(0px 1px 2px rgba(0, 0, 0, 0.3));\n",
              "        fill: #FFFFFF;\n",
              "      }\n",
              "    </style>\n",
              "    <button class=\"colab-df-generate\" onclick=\"generateWithVariable('df')\"\n",
              "            title=\"Generate code using this dataframe.\"\n",
              "            style=\"display:none;\">\n",
              "\n",
              "  <svg xmlns=\"http://www.w3.org/2000/svg\" height=\"24px\"viewBox=\"0 0 24 24\"\n",
              "       width=\"24px\">\n",
              "    <path d=\"M7,19H8.4L18.45,9,17,7.55,7,17.6ZM5,21V16.75L18.45,3.32a2,2,0,0,1,2.83,0l1.4,1.43a1.91,1.91,0,0,1,.58,1.4,1.91,1.91,0,0,1-.58,1.4L9.25,21ZM18.45,9,17,7.55Zm-12,3A5.31,5.31,0,0,0,4.9,8.1,5.31,5.31,0,0,0,1,6.5,5.31,5.31,0,0,0,4.9,4.9,5.31,5.31,0,0,0,6.5,1,5.31,5.31,0,0,0,8.1,4.9,5.31,5.31,0,0,0,12,6.5,5.46,5.46,0,0,0,6.5,12Z\"/>\n",
              "  </svg>\n",
              "    </button>\n",
              "    <script>\n",
              "      (() => {\n",
              "      const buttonEl =\n",
              "        document.querySelector('#id_f734d356-1a3c-4cbd-8f45-37da7f067253 button.colab-df-generate');\n",
              "      buttonEl.style.display =\n",
              "        google.colab.kernel.accessAllowed ? 'block' : 'none';\n",
              "\n",
              "      buttonEl.onclick = () => {\n",
              "        google.colab.notebook.generateWithVariable('df');\n",
              "      }\n",
              "      })();\n",
              "    </script>\n",
              "  </div>\n",
              "\n",
              "    </div>\n",
              "  </div>\n"
            ]
          },
          "metadata": {},
          "execution_count": 8
        }
      ]
    },
    {
      "cell_type": "code",
      "source": [
        "df.id.map(lambda i: len(i)).unique()"
      ],
      "metadata": {
        "id": "IWTDCROHBJ0x",
        "outputId": "fa6de9a0-f47f-4af1-f86e-a40051914bea",
        "colab": {
          "base_uri": "https://localhost:8080/"
        }
      },
      "execution_count": 11,
      "outputs": [
        {
          "output_type": "execute_result",
          "data": {
            "text/plain": [
              "array([7])"
            ]
          },
          "metadata": {},
          "execution_count": 11
        }
      ]
    },
    {
      "cell_type": "code",
      "source": [
        "df.id.unique().shape"
      ],
      "metadata": {
        "id": "5uO_JTRdBJs3",
        "outputId": "dd50ba6d-1b8d-47f3-d94a-e5502a7adc52",
        "colab": {
          "base_uri": "https://localhost:8080/"
        }
      },
      "execution_count": 13,
      "outputs": [
        {
          "output_type": "execute_result",
          "data": {
            "text/plain": [
              "(500,)"
            ]
          },
          "metadata": {},
          "execution_count": 13
        }
      ]
    },
    {
      "cell_type": "code",
      "source": [
        "df.shape"
      ],
      "metadata": {
        "id": "i6VnyaasBJp8",
        "outputId": "0f886c28-88d6-459f-8bed-99cc98951eb6",
        "colab": {
          "base_uri": "https://localhost:8080/"
        }
      },
      "execution_count": 14,
      "outputs": [
        {
          "output_type": "execute_result",
          "data": {
            "text/plain": [
              "(500, 4)"
            ]
          },
          "metadata": {},
          "execution_count": 14
        }
      ]
    },
    {
      "cell_type": "code",
      "source": [
        "df.age = df.age.astype(np.int64)\n",
        "df.calls_month = df.calls_month.astype(np.int32)"
      ],
      "metadata": {
        "id": "xql4tMXAxPbD"
      },
      "execution_count": 19,
      "outputs": []
    },
    {
      "cell_type": "code",
      "source": [
        "df.describe()"
      ],
      "metadata": {
        "id": "Ww-yE-CZwcKK",
        "outputId": "611b9c70-663f-40a7-9782-7fb79a3bba9e",
        "colab": {
          "base_uri": "https://localhost:8080/",
          "height": 300
        }
      },
      "execution_count": 20,
      "outputs": [
        {
          "output_type": "execute_result",
          "data": {
            "text/plain": [
              "              age  calls_month\n",
              "count  500.000000   500.000000\n",
              "mean    36.890000   102.356000\n",
              "std     15.998556    72.657743\n",
              "min     10.000000   -32.000000\n",
              "25%     23.000000    51.000000\n",
              "50%     35.500000    82.500000\n",
              "75%     51.000000   139.500000\n",
              "max     64.000000   340.000000"
            ],
            "text/html": [
              "\n",
              "  <div id=\"df-0f7c073b-169f-44bb-b207-cb8543a7ae2f\" class=\"colab-df-container\">\n",
              "    <div>\n",
              "<style scoped>\n",
              "    .dataframe tbody tr th:only-of-type {\n",
              "        vertical-align: middle;\n",
              "    }\n",
              "\n",
              "    .dataframe tbody tr th {\n",
              "        vertical-align: top;\n",
              "    }\n",
              "\n",
              "    .dataframe thead th {\n",
              "        text-align: right;\n",
              "    }\n",
              "</style>\n",
              "<table border=\"1\" class=\"dataframe\">\n",
              "  <thead>\n",
              "    <tr style=\"text-align: right;\">\n",
              "      <th></th>\n",
              "      <th>age</th>\n",
              "      <th>calls_month</th>\n",
              "    </tr>\n",
              "  </thead>\n",
              "  <tbody>\n",
              "    <tr>\n",
              "      <th>count</th>\n",
              "      <td>500.000000</td>\n",
              "      <td>500.000000</td>\n",
              "    </tr>\n",
              "    <tr>\n",
              "      <th>mean</th>\n",
              "      <td>36.890000</td>\n",
              "      <td>102.356000</td>\n",
              "    </tr>\n",
              "    <tr>\n",
              "      <th>std</th>\n",
              "      <td>15.998556</td>\n",
              "      <td>72.657743</td>\n",
              "    </tr>\n",
              "    <tr>\n",
              "      <th>min</th>\n",
              "      <td>10.000000</td>\n",
              "      <td>-32.000000</td>\n",
              "    </tr>\n",
              "    <tr>\n",
              "      <th>25%</th>\n",
              "      <td>23.000000</td>\n",
              "      <td>51.000000</td>\n",
              "    </tr>\n",
              "    <tr>\n",
              "      <th>50%</th>\n",
              "      <td>35.500000</td>\n",
              "      <td>82.500000</td>\n",
              "    </tr>\n",
              "    <tr>\n",
              "      <th>75%</th>\n",
              "      <td>51.000000</td>\n",
              "      <td>139.500000</td>\n",
              "    </tr>\n",
              "    <tr>\n",
              "      <th>max</th>\n",
              "      <td>64.000000</td>\n",
              "      <td>340.000000</td>\n",
              "    </tr>\n",
              "  </tbody>\n",
              "</table>\n",
              "</div>\n",
              "    <div class=\"colab-df-buttons\">\n",
              "\n",
              "  <div class=\"colab-df-container\">\n",
              "    <button class=\"colab-df-convert\" onclick=\"convertToInteractive('df-0f7c073b-169f-44bb-b207-cb8543a7ae2f')\"\n",
              "            title=\"Convert this dataframe to an interactive table.\"\n",
              "            style=\"display:none;\">\n",
              "\n",
              "  <svg xmlns=\"http://www.w3.org/2000/svg\" height=\"24px\" viewBox=\"0 -960 960 960\">\n",
              "    <path d=\"M120-120v-720h720v720H120Zm60-500h600v-160H180v160Zm220 220h160v-160H400v160Zm0 220h160v-160H400v160ZM180-400h160v-160H180v160Zm440 0h160v-160H620v160ZM180-180h160v-160H180v160Zm440 0h160v-160H620v160Z\"/>\n",
              "  </svg>\n",
              "    </button>\n",
              "\n",
              "  <style>\n",
              "    .colab-df-container {\n",
              "      display:flex;\n",
              "      gap: 12px;\n",
              "    }\n",
              "\n",
              "    .colab-df-convert {\n",
              "      background-color: #E8F0FE;\n",
              "      border: none;\n",
              "      border-radius: 50%;\n",
              "      cursor: pointer;\n",
              "      display: none;\n",
              "      fill: #1967D2;\n",
              "      height: 32px;\n",
              "      padding: 0 0 0 0;\n",
              "      width: 32px;\n",
              "    }\n",
              "\n",
              "    .colab-df-convert:hover {\n",
              "      background-color: #E2EBFA;\n",
              "      box-shadow: 0px 1px 2px rgba(60, 64, 67, 0.3), 0px 1px 3px 1px rgba(60, 64, 67, 0.15);\n",
              "      fill: #174EA6;\n",
              "    }\n",
              "\n",
              "    .colab-df-buttons div {\n",
              "      margin-bottom: 4px;\n",
              "    }\n",
              "\n",
              "    [theme=dark] .colab-df-convert {\n",
              "      background-color: #3B4455;\n",
              "      fill: #D2E3FC;\n",
              "    }\n",
              "\n",
              "    [theme=dark] .colab-df-convert:hover {\n",
              "      background-color: #434B5C;\n",
              "      box-shadow: 0px 1px 3px 1px rgba(0, 0, 0, 0.15);\n",
              "      filter: drop-shadow(0px 1px 2px rgba(0, 0, 0, 0.3));\n",
              "      fill: #FFFFFF;\n",
              "    }\n",
              "  </style>\n",
              "\n",
              "    <script>\n",
              "      const buttonEl =\n",
              "        document.querySelector('#df-0f7c073b-169f-44bb-b207-cb8543a7ae2f button.colab-df-convert');\n",
              "      buttonEl.style.display =\n",
              "        google.colab.kernel.accessAllowed ? 'block' : 'none';\n",
              "\n",
              "      async function convertToInteractive(key) {\n",
              "        const element = document.querySelector('#df-0f7c073b-169f-44bb-b207-cb8543a7ae2f');\n",
              "        const dataTable =\n",
              "          await google.colab.kernel.invokeFunction('convertToInteractive',\n",
              "                                                    [key], {});\n",
              "        if (!dataTable) return;\n",
              "\n",
              "        const docLinkHtml = 'Like what you see? Visit the ' +\n",
              "          '<a target=\"_blank\" href=https://colab.research.google.com/notebooks/data_table.ipynb>data table notebook</a>'\n",
              "          + ' to learn more about interactive tables.';\n",
              "        element.innerHTML = '';\n",
              "        dataTable['output_type'] = 'display_data';\n",
              "        await google.colab.output.renderOutput(dataTable, element);\n",
              "        const docLink = document.createElement('div');\n",
              "        docLink.innerHTML = docLinkHtml;\n",
              "        element.appendChild(docLink);\n",
              "      }\n",
              "    </script>\n",
              "  </div>\n",
              "\n",
              "\n",
              "<div id=\"df-7ef0ca43-a2bc-424c-85aa-d2d2ce24cfb7\">\n",
              "  <button class=\"colab-df-quickchart\" onclick=\"quickchart('df-7ef0ca43-a2bc-424c-85aa-d2d2ce24cfb7')\"\n",
              "            title=\"Suggest charts\"\n",
              "            style=\"display:none;\">\n",
              "\n",
              "<svg xmlns=\"http://www.w3.org/2000/svg\" height=\"24px\"viewBox=\"0 0 24 24\"\n",
              "     width=\"24px\">\n",
              "    <g>\n",
              "        <path d=\"M19 3H5c-1.1 0-2 .9-2 2v14c0 1.1.9 2 2 2h14c1.1 0 2-.9 2-2V5c0-1.1-.9-2-2-2zM9 17H7v-7h2v7zm4 0h-2V7h2v10zm4 0h-2v-4h2v4z\"/>\n",
              "    </g>\n",
              "</svg>\n",
              "  </button>\n",
              "\n",
              "<style>\n",
              "  .colab-df-quickchart {\n",
              "      --bg-color: #E8F0FE;\n",
              "      --fill-color: #1967D2;\n",
              "      --hover-bg-color: #E2EBFA;\n",
              "      --hover-fill-color: #174EA6;\n",
              "      --disabled-fill-color: #AAA;\n",
              "      --disabled-bg-color: #DDD;\n",
              "  }\n",
              "\n",
              "  [theme=dark] .colab-df-quickchart {\n",
              "      --bg-color: #3B4455;\n",
              "      --fill-color: #D2E3FC;\n",
              "      --hover-bg-color: #434B5C;\n",
              "      --hover-fill-color: #FFFFFF;\n",
              "      --disabled-bg-color: #3B4455;\n",
              "      --disabled-fill-color: #666;\n",
              "  }\n",
              "\n",
              "  .colab-df-quickchart {\n",
              "    background-color: var(--bg-color);\n",
              "    border: none;\n",
              "    border-radius: 50%;\n",
              "    cursor: pointer;\n",
              "    display: none;\n",
              "    fill: var(--fill-color);\n",
              "    height: 32px;\n",
              "    padding: 0;\n",
              "    width: 32px;\n",
              "  }\n",
              "\n",
              "  .colab-df-quickchart:hover {\n",
              "    background-color: var(--hover-bg-color);\n",
              "    box-shadow: 0 1px 2px rgba(60, 64, 67, 0.3), 0 1px 3px 1px rgba(60, 64, 67, 0.15);\n",
              "    fill: var(--button-hover-fill-color);\n",
              "  }\n",
              "\n",
              "  .colab-df-quickchart-complete:disabled,\n",
              "  .colab-df-quickchart-complete:disabled:hover {\n",
              "    background-color: var(--disabled-bg-color);\n",
              "    fill: var(--disabled-fill-color);\n",
              "    box-shadow: none;\n",
              "  }\n",
              "\n",
              "  .colab-df-spinner {\n",
              "    border: 2px solid var(--fill-color);\n",
              "    border-color: transparent;\n",
              "    border-bottom-color: var(--fill-color);\n",
              "    animation:\n",
              "      spin 1s steps(1) infinite;\n",
              "  }\n",
              "\n",
              "  @keyframes spin {\n",
              "    0% {\n",
              "      border-color: transparent;\n",
              "      border-bottom-color: var(--fill-color);\n",
              "      border-left-color: var(--fill-color);\n",
              "    }\n",
              "    20% {\n",
              "      border-color: transparent;\n",
              "      border-left-color: var(--fill-color);\n",
              "      border-top-color: var(--fill-color);\n",
              "    }\n",
              "    30% {\n",
              "      border-color: transparent;\n",
              "      border-left-color: var(--fill-color);\n",
              "      border-top-color: var(--fill-color);\n",
              "      border-right-color: var(--fill-color);\n",
              "    }\n",
              "    40% {\n",
              "      border-color: transparent;\n",
              "      border-right-color: var(--fill-color);\n",
              "      border-top-color: var(--fill-color);\n",
              "    }\n",
              "    60% {\n",
              "      border-color: transparent;\n",
              "      border-right-color: var(--fill-color);\n",
              "    }\n",
              "    80% {\n",
              "      border-color: transparent;\n",
              "      border-right-color: var(--fill-color);\n",
              "      border-bottom-color: var(--fill-color);\n",
              "    }\n",
              "    90% {\n",
              "      border-color: transparent;\n",
              "      border-bottom-color: var(--fill-color);\n",
              "    }\n",
              "  }\n",
              "</style>\n",
              "\n",
              "  <script>\n",
              "    async function quickchart(key) {\n",
              "      const quickchartButtonEl =\n",
              "        document.querySelector('#' + key + ' button');\n",
              "      quickchartButtonEl.disabled = true;  // To prevent multiple clicks.\n",
              "      quickchartButtonEl.classList.add('colab-df-spinner');\n",
              "      try {\n",
              "        const charts = await google.colab.kernel.invokeFunction(\n",
              "            'suggestCharts', [key], {});\n",
              "      } catch (error) {\n",
              "        console.error('Error during call to suggestCharts:', error);\n",
              "      }\n",
              "      quickchartButtonEl.classList.remove('colab-df-spinner');\n",
              "      quickchartButtonEl.classList.add('colab-df-quickchart-complete');\n",
              "    }\n",
              "    (() => {\n",
              "      let quickchartButtonEl =\n",
              "        document.querySelector('#df-7ef0ca43-a2bc-424c-85aa-d2d2ce24cfb7 button');\n",
              "      quickchartButtonEl.style.display =\n",
              "        google.colab.kernel.accessAllowed ? 'block' : 'none';\n",
              "    })();\n",
              "  </script>\n",
              "</div>\n",
              "\n",
              "    </div>\n",
              "  </div>\n"
            ]
          },
          "metadata": {},
          "execution_count": 20
        }
      ]
    },
    {
      "cell_type": "code",
      "source": [
        "for col in df.columns:\n",
        "  print(df[col].dtype == 'object')"
      ],
      "metadata": {
        "id": "EvzuUvS-wcH4",
        "outputId": "f3079a79-7eee-4814-fc72-75f587f36935",
        "colab": {
          "base_uri": "https://localhost:8080/"
        }
      },
      "execution_count": 23,
      "outputs": [
        {
          "output_type": "stream",
          "name": "stdout",
          "text": [
            "True\n",
            "False\n",
            "False\n",
            "True\n"
          ]
        }
      ]
    },
    {
      "cell_type": "code",
      "source": [
        "sns.scatterplot(x = df.age, y = df.calls_month)"
      ],
      "metadata": {
        "id": "i60_VAM-wcER",
        "outputId": "357ea885-e111-4434-c0b4-afe2030d25ac",
        "colab": {
          "base_uri": "https://localhost:8080/",
          "height": 466
        }
      },
      "execution_count": 26,
      "outputs": [
        {
          "output_type": "execute_result",
          "data": {
            "text/plain": [
              "<Axes: xlabel='age', ylabel='calls_month'>"
            ]
          },
          "metadata": {},
          "execution_count": 26
        },
        {
          "output_type": "display_data",
          "data": {
            "text/plain": [
              "<Figure size 640x480 with 1 Axes>"
            ],
            "image/png": "[encoded data removed]"
          },
          "metadata": {}
        }
      ]
    },
    {
      "cell_type": "code",
      "source": [
        "sns.kdeplot(x = df.age,y = df.calls_month)"
      ],
      "metadata": {
        "id": "Un4Yg5b4wbrK",
        "outputId": "13cfcc8e-dc55-48cd-c733-d4f37def953d",
        "colab": {
          "base_uri": "https://localhost:8080/",
          "height": 466
        }
      },
      "execution_count": 27,
      "outputs": [
        {
          "output_type": "execute_result",
          "data": {
            "text/plain": [
              "<Axes: xlabel='age', ylabel='calls_month'>"
            ]
          },
          "metadata": {},
          "execution_count": 27
        },
        {
          "output_type": "display_data",
          "data": {
            "text/plain": [
              "<Figure size 640x480 with 1 Axes>"
            ],
            "image/png": "[encoded data removed]"
          },
          "metadata": {}
        }
      ]
    },
    {
      "cell_type": "code",
      "source": [],
      "metadata": {
        "id": "GVXKbUAZwboq"
      },
      "execution_count": null,
      "outputs": []
    },
    {
      "cell_type": "code",
      "source": [],
      "metadata": {
        "id": "QQ4Qx3VQwbka"
      },
      "execution_count": null,
      "outputs": []
    },
    {
      "cell_type": "markdown",
      "source": [
        "Создадим колонку `balance` которая будет скоррелирована с количеством звонков в месяц. Данная фича будет показывать средний баланс за месяц для абонента. Ниже написана очень импирическая формула (не показывайте ее никому), как можно по одному множеству сгенерить другое множество с заданным коэффициентом корреляции. Сплошная эвристика)))"
      ],
      "metadata": {
        "id": "dOB35sUTR3wJ"
      }
    },
    {
      "cell_type": "markdown",
      "source": [
        "$$Y = rX + E\\sigma_x\\sqrt{1-r^2} + bias$$"
      ],
      "metadata": {
        "id": "g9w8iHsELFm9"
      }
    },
    {
      "cell_type": "markdown",
      "source": [
        "* Y - получаемое множество\n",
        "* X - исходное множество\n",
        "* E - случайный шум (стандартизированное Гаусово распределение)\n",
        "* r - коэффициент Корреляции Пирсона\n",
        "* bias - смещение"
      ],
      "metadata": {
        "id": "h0aI6fMASgXB"
      }
    },
    {
      "cell_type": "code",
      "source": [
        "r = 0.7\n",
        "e = np.random.randn(n_rows)\n",
        "bias = 200\n",
        "balance = (df.calls_month * r + e*(1-r**2)**.5* df.calls_month.std() + bias).round()"
      ],
      "metadata": {
        "id": "cXx0aU-kim64"
      },
      "execution_count": 28,
      "outputs": []
    },
    {
      "cell_type": "code",
      "source": [
        "# your code\n",
        "df['balance'] = balance"
      ],
      "metadata": {
        "id": "0v7NQb3URyus"
      },
      "execution_count": 29,
      "outputs": []
    },
    {
      "cell_type": "code",
      "source": [
        "df.head()"
      ],
      "metadata": {
        "id": "rLaXRN1-04Ru",
        "outputId": "0699b490-e06c-45ab-b362-a49cd0aa8129",
        "colab": {
          "base_uri": "https://localhost:8080/",
          "height": 206
        }
      },
      "execution_count": 30,
      "outputs": [
        {
          "output_type": "execute_result",
          "data": {
            "text/plain": [
              "        id  age  calls_month     city  balance\n",
              "0  ID_1129   61          238  Bishkek    404.0\n",
              "1  ID_1682   40           53    Naryn    252.0\n",
              "2  ID_1646   30           33  Bishkek    226.0\n",
              "3  ID_1414   61          212   Tokmak    307.0\n",
              "4  ID_1978   26           12      Ohs    198.0"
            ],
            "text/html": [
              "\n",
              "  <div id=\"df-510690f5-f654-4b7b-a09d-60f3f703789b\" class=\"colab-df-container\">\n",
              "    <div>\n",
              "<style scoped>\n",
              "    .dataframe tbody tr th:only-of-type {\n",
              "        vertical-align: middle;\n",
              "    }\n",
              "\n",
              "    .dataframe tbody tr th {\n",
              "        vertical-align: top;\n",
              "    }\n",
              "\n",
              "    .dataframe thead th {\n",
              "        text-align: right;\n",
              "    }\n",
              "</style>\n",
              "<table border=\"1\" class=\"dataframe\">\n",
              "  <thead>\n",
              "    <tr style=\"text-align: right;\">\n",
              "      <th></th>\n",
              "      <th>id</th>\n",
              "      <th>age</th>\n",
              "      <th>calls_month</th>\n",
              "      <th>city</th>\n",
              "      <th>balance</th>\n",
              "    </tr>\n",
              "  </thead>\n",
              "  <tbody>\n",
              "    <tr>\n",
              "      <th>0</th>\n",
              "      <td>ID_1129</td>\n",
              "      <td>61</td>\n",
              "      <td>238</td>\n",
              "      <td>Bishkek</td>\n",
              "      <td>404.0</td>\n",
              "    </tr>\n",
              "    <tr>\n",
              "      <th>1</th>\n",
              "      <td>ID_1682</td>\n",
              "      <td>40</td>\n",
              "      <td>53</td>\n",
              "      <td>Naryn</td>\n",
              "      <td>252.0</td>\n",
              "    </tr>\n",
              "    <tr>\n",
              "      <th>2</th>\n",
              "      <td>ID_1646</td>\n",
              "      <td>30</td>\n",
              "      <td>33</td>\n",
              "      <td>Bishkek</td>\n",
              "      <td>226.0</td>\n",
              "    </tr>\n",
              "    <tr>\n",
              "      <th>3</th>\n",
              "      <td>ID_1414</td>\n",
              "      <td>61</td>\n",
              "      <td>212</td>\n",
              "      <td>Tokmak</td>\n",
              "      <td>307.0</td>\n",
              "    </tr>\n",
              "    <tr>\n",
              "      <th>4</th>\n",
              "      <td>ID_1978</td>\n",
              "      <td>26</td>\n",
              "      <td>12</td>\n",
              "      <td>Ohs</td>\n",
              "      <td>198.0</td>\n",
              "    </tr>\n",
              "  </tbody>\n",
              "</table>\n",
              "</div>\n",
              "    <div class=\"colab-df-buttons\">\n",
              "\n",
              "  <div class=\"colab-df-container\">\n",
              "    <button class=\"colab-df-convert\" onclick=\"convertToInteractive('df-510690f5-f654-4b7b-a09d-60f3f703789b')\"\n",
              "            title=\"Convert this dataframe to an interactive table.\"\n",
              "            style=\"display:none;\">\n",
              "\n",
              "  <svg xmlns=\"http://www.w3.org/2000/svg\" height=\"24px\" viewBox=\"0 -960 960 960\">\n",
              "    <path d=\"M120-120v-720h720v720H120Zm60-500h600v-160H180v160Zm220 220h160v-160H400v160Zm0 220h160v-160H400v160ZM180-400h160v-160H180v160Zm440 0h160v-160H620v160ZM180-180h160v-160H180v160Zm440 0h160v-160H620v160Z\"/>\n",
              "  </svg>\n",
              "    </button>\n",
              "\n",
              "  <style>\n",
              "    .colab-df-container {\n",
              "      display:flex;\n",
              "      gap: 12px;\n",
              "    }\n",
              "\n",
              "    .colab-df-convert {\n",
              "      background-color: #E8F0FE;\n",
              "      border: none;\n",
              "      border-radius: 50%;\n",
              "      cursor: pointer;\n",
              "      display: none;\n",
              "      fill: #1967D2;\n",
              "      height: 32px;\n",
              "      padding: 0 0 0 0;\n",
              "      width: 32px;\n",
              "    }\n",
              "\n",
              "    .colab-df-convert:hover {\n",
              "      background-color: #E2EBFA;\n",
              "      box-shadow: 0px 1px 2px rgba(60, 64, 67, 0.3), 0px 1px 3px 1px rgba(60, 64, 67, 0.15);\n",
              "      fill: #174EA6;\n",
              "    }\n",
              "\n",
              "    .colab-df-buttons div {\n",
              "      margin-bottom: 4px;\n",
              "    }\n",
              "\n",
              "    [theme=dark] .colab-df-convert {\n",
              "      background-color: #3B4455;\n",
              "      fill: #D2E3FC;\n",
              "    }\n",
              "\n",
              "    [theme=dark] .colab-df-convert:hover {\n",
              "      background-color: #434B5C;\n",
              "      box-shadow: 0px 1px 3px 1px rgba(0, 0, 0, 0.15);\n",
              "      filter: drop-shadow(0px 1px 2px rgba(0, 0, 0, 0.3));\n",
              "      fill: #FFFFFF;\n",
              "    }\n",
              "  </style>\n",
              "\n",
              "    <script>\n",
              "      const buttonEl =\n",
              "        document.querySelector('#df-510690f5-f654-4b7b-a09d-60f3f703789b button.colab-df-convert');\n",
              "      buttonEl.style.display =\n",
              "        google.colab.kernel.accessAllowed ? 'block' : 'none';\n",
              "\n",
              "      async function convertToInteractive(key) {\n",
              "        const element = document.querySelector('#df-510690f5-f654-4b7b-a09d-60f3f703789b');\n",
              "        const dataTable =\n",
              "          await google.colab.kernel.invokeFunction('convertToInteractive',\n",
              "                                                    [key], {});\n",
              "        if (!dataTable) return;\n",
              "\n",
              "        const docLinkHtml = 'Like what you see? Visit the ' +\n",
              "          '<a target=\"_blank\" href=https://colab.research.google.com/notebooks/data_table.ipynb>data table notebook</a>'\n",
              "          + ' to learn more about interactive tables.';\n",
              "        element.innerHTML = '';\n",
              "        dataTable['output_type'] = 'display_data';\n",
              "        await google.colab.output.renderOutput(dataTable, element);\n",
              "        const docLink = document.createElement('div');\n",
              "        docLink.innerHTML = docLinkHtml;\n",
              "        element.appendChild(docLink);\n",
              "      }\n",
              "    </script>\n",
              "  </div>\n",
              "\n",
              "\n",
              "<div id=\"df-5e10c08e-d0bc-489a-837f-14b488a87bc7\">\n",
              "  <button class=\"colab-df-quickchart\" onclick=\"quickchart('df-5e10c08e-d0bc-489a-837f-14b488a87bc7')\"\n",
              "            title=\"Suggest charts\"\n",
              "            style=\"display:none;\">\n",
              "\n",
              "<svg xmlns=\"http://www.w3.org/2000/svg\" height=\"24px\"viewBox=\"0 0 24 24\"\n",
              "     width=\"24px\">\n",
              "    <g>\n",
              "        <path d=\"M19 3H5c-1.1 0-2 .9-2 2v14c0 1.1.9 2 2 2h14c1.1 0 2-.9 2-2V5c0-1.1-.9-2-2-2zM9 17H7v-7h2v7zm4 0h-2V7h2v10zm4 0h-2v-4h2v4z\"/>\n",
              "    </g>\n",
              "</svg>\n",
              "  </button>\n",
              "\n",
              "<style>\n",
              "  .colab-df-quickchart {\n",
              "      --bg-color: #E8F0FE;\n",
              "      --fill-color: #1967D2;\n",
              "      --hover-bg-color: #E2EBFA;\n",
              "      --hover-fill-color: #174EA6;\n",
              "      --disabled-fill-color: #AAA;\n",
              "      --disabled-bg-color: #DDD;\n",
              "  }\n",
              "\n",
              "  [theme=dark] .colab-df-quickchart {\n",
              "      --bg-color: #3B4455;\n",
              "      --fill-color: #D2E3FC;\n",
              "      --hover-bg-color: #434B5C;\n",
              "      --hover-fill-color: #FFFFFF;\n",
              "      --disabled-bg-color: #3B4455;\n",
              "      --disabled-fill-color: #666;\n",
              "  }\n",
              "\n",
              "  .colab-df-quickchart {\n",
              "    background-color: var(--bg-color);\n",
              "    border: none;\n",
              "    border-radius: 50%;\n",
              "    cursor: pointer;\n",
              "    display: none;\n",
              "    fill: var(--fill-color);\n",
              "    height: 32px;\n",
              "    padding: 0;\n",
              "    width: 32px;\n",
              "  }\n",
              "\n",
              "  .colab-df-quickchart:hover {\n",
              "    background-color: var(--hover-bg-color);\n",
              "    box-shadow: 0 1px 2px rgba(60, 64, 67, 0.3), 0 1px 3px 1px rgba(60, 64, 67, 0.15);\n",
              "    fill: var(--button-hover-fill-color);\n",
              "  }\n",
              "\n",
              "  .colab-df-quickchart-complete:disabled,\n",
              "  .colab-df-quickchart-complete:disabled:hover {\n",
              "    background-color: var(--disabled-bg-color);\n",
              "    fill: var(--disabled-fill-color);\n",
              "    box-shadow: none;\n",
              "  }\n",
              "\n",
              "  .colab-df-spinner {\n",
              "    border: 2px solid var(--fill-color);\n",
              "    border-color: transparent;\n",
              "    border-bottom-color: var(--fill-color);\n",
              "    animation:\n",
              "      spin 1s steps(1) infinite;\n",
              "  }\n",
              "\n",
              "  @keyframes spin {\n",
              "    0% {\n",
              "      border-color: transparent;\n",
              "      border-bottom-color: var(--fill-color);\n",
              "      border-left-color: var(--fill-color);\n",
              "    }\n",
              "    20% {\n",
              "      border-color: transparent;\n",
              "      border-left-color: var(--fill-color);\n",
              "      border-top-color: var(--fill-color);\n",
              "    }\n",
              "    30% {\n",
              "      border-color: transparent;\n",
              "      border-left-color: var(--fill-color);\n",
              "      border-top-color: var(--fill-color);\n",
              "      border-right-color: var(--fill-color);\n",
              "    }\n",
              "    40% {\n",
              "      border-color: transparent;\n",
              "      border-right-color: var(--fill-color);\n",
              "      border-top-color: var(--fill-color);\n",
              "    }\n",
              "    60% {\n",
              "      border-color: transparent;\n",
              "      border-right-color: var(--fill-color);\n",
              "    }\n",
              "    80% {\n",
              "      border-color: transparent;\n",
              "      border-right-color: var(--fill-color);\n",
              "      border-bottom-color: var(--fill-color);\n",
              "    }\n",
              "    90% {\n",
              "      border-color: transparent;\n",
              "      border-bottom-color: var(--fill-color);\n",
              "    }\n",
              "  }\n",
              "</style>\n",
              "\n",
              "  <script>\n",
              "    async function quickchart(key) {\n",
              "      const quickchartButtonEl =\n",
              "        document.querySelector('#' + key + ' button');\n",
              "      quickchartButtonEl.disabled = true;  // To prevent multiple clicks.\n",
              "      quickchartButtonEl.classList.add('colab-df-spinner');\n",
              "      try {\n",
              "        const charts = await google.colab.kernel.invokeFunction(\n",
              "            'suggestCharts', [key], {});\n",
              "      } catch (error) {\n",
              "        console.error('Error during call to suggestCharts:', error);\n",
              "      }\n",
              "      quickchartButtonEl.classList.remove('colab-df-spinner');\n",
              "      quickchartButtonEl.classList.add('colab-df-quickchart-complete');\n",
              "    }\n",
              "    (() => {\n",
              "      let quickchartButtonEl =\n",
              "        document.querySelector('#df-5e10c08e-d0bc-489a-837f-14b488a87bc7 button');\n",
              "      quickchartButtonEl.style.display =\n",
              "        google.colab.kernel.accessAllowed ? 'block' : 'none';\n",
              "    })();\n",
              "  </script>\n",
              "</div>\n",
              "\n",
              "    </div>\n",
              "  </div>\n"
            ]
          },
          "metadata": {},
          "execution_count": 30
        }
      ]
    },
    {
      "cell_type": "code",
      "source": [
        "sns.scatterplot(x = df.balance, y = df.calls_month)"
      ],
      "metadata": {
        "id": "mkAuAolm1Df3",
        "outputId": "ce4f1d49-6c8e-46ed-9513-4a5bc00d3511",
        "colab": {
          "base_uri": "https://localhost:8080/",
          "height": 466
        }
      },
      "execution_count": 31,
      "outputs": [
        {
          "output_type": "execute_result",
          "data": {
            "text/plain": [
              "<Axes: xlabel='balance', ylabel='calls_month'>"
            ]
          },
          "metadata": {},
          "execution_count": 31
        },
        {
          "output_type": "display_data",
          "data": {
            "text/plain": [
              "<Figure size 640x480 with 1 Axes>"
            ],
            "image/png": "[encoded data removed]"
          },
          "metadata": {}
        }
      ]
    },
    {
      "cell_type": "markdown",
      "source": [
        "Постройте скаттерплот и корр матрицу."
      ],
      "metadata": {
        "id": "lYuOS52VaPaN"
      }
    },
    {
      "cell_type": "code",
      "source": [],
      "metadata": {
        "id": "a-ie6RCKaQdz"
      },
      "execution_count": null,
      "outputs": []
    },
    {
      "cell_type": "markdown",
      "source": [
        "Постройте график по образцу и сделайте выводы.\n",
        "\n",
        "![image.png](data:image/png;base64,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)"
      ],
      "metadata": {
        "id": "SxwD-M7FS2Z8"
      }
    },
    {
      "cell_type": "code",
      "source": [
        "sns.boxplot(x = df.calls_month,y = df.city)"
      ],
      "metadata": {
        "id": "GVwGai3CTbiS",
        "outputId": "2c7d407c-21f8-4ea1-9f0b-20aa9c45ea94",
        "colab": {
          "base_uri": "https://localhost:8080/",
          "height": 467
        }
      },
      "execution_count": 33,
      "outputs": [
        {
          "output_type": "execute_result",
          "data": {
            "text/plain": [
              "<Axes: xlabel='calls_month', ylabel='city'>"
            ]
          },
          "metadata": {},
          "execution_count": 33
        },
        {
          "output_type": "display_data",
          "data": {
            "text/plain": [
              "<Figure size 640x480 with 1 Axes>"
            ],
            "image/png": "[encoded data removed]"
          },
          "metadata": {}
        }
      ]
    },
    {
      "cell_type": "code",
      "source": [],
      "metadata": {
        "id": "8bRn9YSeTbfi"
      },
      "execution_count": null,
      "outputs": []
    },
    {
      "cell_type": "markdown",
      "source": [
        "# Задача 2\n",
        "\n",
        "Для созданного датасета удалите из него тех пользователей, количество звонков в месяц которых меньше, чем значение первого квартиля по данной колонке. Сохраните данный датасет в новую переменную!"
      ],
      "metadata": {
        "id": "5wwRk8_onUfo"
      }
    },
    {
      "cell_type": "code",
      "source": [
        "# your code"
      ],
      "metadata": {
        "id": "qmCz5_rGim4k"
      },
      "execution_count": null,
      "outputs": []
    },
    {
      "cell_type": "code",
      "source": [
        "df_mod = df[df.calls_month > df.calls_month.quantile(0.25)]"
      ],
      "metadata": {
        "id": "54wqUG7bim1y"
      },
      "execution_count": 39,
      "outputs": []
    },
    {
      "cell_type": "code",
      "source": [],
      "metadata": {
        "id": "6UF_5wcEnq-a"
      },
      "execution_count": null,
      "outputs": []
    },
    {
      "cell_type": "markdown",
      "source": [
        "# Задача 3\n",
        "\n",
        "Отсортируйте новый датасет по колонке Баланс и выведите по ней топ 10 клиентов! Какой у них средний возраст?"
      ],
      "metadata": {
        "id": "s7CMGZj1n587"
      }
    },
    {
      "cell_type": "code",
      "source": [
        "# your code"
      ],
      "metadata": {
        "id": "KHdQeNDpnq8L"
      },
      "execution_count": null,
      "outputs": []
    },
    {
      "cell_type": "code",
      "source": [
        "df.sort_values('balance', ascending = False).head(10).age.mean()"
      ],
      "metadata": {
        "id": "sDeGTgrYnq55",
        "outputId": "76f58116-e37d-4eeb-c791-972d926568cd",
        "colab": {
          "base_uri": "https://localhost:8080/"
        }
      },
      "execution_count": 46,
      "outputs": [
        {
          "output_type": "execute_result",
          "data": {
            "text/plain": [
              "62.6"
            ]
          },
          "metadata": {},
          "execution_count": 46
        }
      ]
    },
    {
      "cell_type": "code",
      "source": [],
      "metadata": {
        "id": "x-aeEUx0nq3r"
      },
      "execution_count": null,
      "outputs": []
    },
    {
      "cell_type": "markdown",
      "source": [
        "# Задача 4\n",
        "\n",
        "Давайте загрузим реальный датасет по недвижке, который является частью данных, которые мы спарсили с досок объявлений.\n",
        "\n",
        "Имя файла 'land_bishkek.csv'"
      ],
      "metadata": {
        "id": "TVGH_fyEsE61"
      }
    },
    {
      "cell_type": "code",
      "source": [
        "!wget 'https://www.dropbox.com/scl/fi/jd1wrmkxvz7fn3x92fcwd/land_bishkek.csv?rlkey=1t7xlcvq2wetup1jth9e94i3m&dl=0'"
      ],
      "metadata": {
        "id": "R6eW9NBzVigV",
        "outputId": "3bef39aa-8f4d-4dd8-e83a-1ac4dee74ad5",
        "colab": {
          "base_uri": "https://localhost:8080/"
        }
      },
      "execution_count": 47,
      "outputs": [
        {
          "output_type": "stream",
          "name": "stdout",
          "text": [
            "--2024-01-26 14:38:12--  https://www.dropbox.com/scl/fi/jd1wrmkxvz7fn3x92fcwd/land_bishkek.csv?rlkey=1t7xlcvq2wetup1jth9e94i3m&dl=0\n",
            "Resolving www.dropbox.com (www.dropbox.com)... 162.125.5.18, 2620:100:601d:18::a27d:512\n",
            "Connecting to www.dropbox.com (www.dropbox.com)|162.125.5.18|:443... connected.\n",
            "HTTP request sent, awaiting response... 302 Found\n",
            "Location: https://uc148068db10c1aff73e3fbff94f.dl.dropboxusercontent.com/cd/0/inline/CMGulwdwTACHSxoYA0W1wkN6FcXPFNqOepcXmsFuPXLb7pQ2pt9DYCBDDeZR8qLkq9fJqlDcR-9XlTLwwfSlCshMqyp0BaSS1jtSxncANM7sgZE17OcR6e8OMGLpMUDMevvDniAUlw9MQ-YqitiYBCqX/file# [following]\n",
            "--2024-01-26 14:38:13--  https://uc148068db10c1aff73e3fbff94f.dl.dropboxusercontent.com/cd/0/inline/CMGulwdwTACHSxoYA0W1wkN6FcXPFNqOepcXmsFuPXLb7pQ2pt9DYCBDDeZR8qLkq9fJqlDcR-9XlTLwwfSlCshMqyp0BaSS1jtSxncANM7sgZE17OcR6e8OMGLpMUDMevvDniAUlw9MQ-YqitiYBCqX/file\n",
            "Resolving uc148068db10c1aff73e3fbff94f.dl.dropboxusercontent.com (uc148068db10c1aff73e3fbff94f.dl.dropboxusercontent.com)... 162.125.5.15, 2620:100:601d:15::a27d:50f\n",
            "Connecting to uc148068db10c1aff73e3fbff94f.dl.dropboxusercontent.com (uc148068db10c1aff73e3fbff94f.dl.dropboxusercontent.com)|162.125.5.15|:443... connected.\n",
            "HTTP request sent, awaiting response... 200 OK\n",
            "Length: 26340 (26K) [text/plain]\n",
            "Saving to: ‘land_bishkek.csv?rlkey=1t7xlcvq2wetup1jth9e94i3m&dl=0’\n",
            "\n",
            "land_bishkek.csv?rl 100%[===================>]  25.72K  --.-KB/s    in 0.03s   \n",
            "\n",
            "2024-01-26 14:38:13 (945 KB/s) - ‘land_bishkek.csv?rlkey=1t7xlcvq2wetup1jth9e94i3m&dl=0’ saved [26340/26340]\n",
            "\n"
          ]
        }
      ]
    },
    {
      "cell_type": "code",
      "source": [],
      "metadata": {
        "id": "dLiuP-hC5Bci"
      },
      "execution_count": null,
      "outputs": []
    },
    {
      "cell_type": "code",
      "source": [
        "df = pd.read_csv('land_bishkek.csv?rlkey=1t7xlcvq2wetup1jth9e94i3m&dl=0')"
      ],
      "metadata": {
        "id": "83IAVuNKnq1S"
      },
      "execution_count": 48,
      "outputs": []
    },
    {
      "cell_type": "code",
      "source": [
        "df.head()"
      ],
      "metadata": {
        "id": "0MMk5JAknqyn",
        "colab": {
          "base_uri": "https://localhost:8080/",
          "height": 206
        },
        "outputId": "1ccfdd79-a597-4cda-b4d6-c7b7024b3a55"
      },
      "execution_count": 49,
      "outputs": [
        {
          "output_type": "execute_result",
          "data": {
            "text/plain": [
              "                                     address    price   area  oblast\n",
              "0                       бишкек, кустанайская  45500.0  240.0     1.0\n",
              "1   бишкек, рухий мурас ж/м, рухий-мурас 5-я  50000.0    0.0     1.0\n",
              "2                 бишкек, ак-ордо ж/м, белек  37000.0  500.0     1.0\n",
              "3                        бишкек, восточная 5  30000.0  700.0     1.0\n",
              "4  бишкек, кызыл-аскер ж/м, кумарыкская 40 а  54000.0  300.0     1.0"
            ],
            "text/html": [
              "\n",
              "  <div id=\"df-77492fcd-2dc7-435d-bcf7-87f16b050641\" class=\"colab-df-container\">\n",
              "    <div>\n",
              "<style scoped>\n",
              "    .dataframe tbody tr th:only-of-type {\n",
              "        vertical-align: middle;\n",
              "    }\n",
              "\n",
              "    .dataframe tbody tr th {\n",
              "        vertical-align: top;\n",
              "    }\n",
              "\n",
              "    .dataframe thead th {\n",
              "        text-align: right;\n",
              "    }\n",
              "</style>\n",
              "<table border=\"1\" class=\"dataframe\">\n",
              "  <thead>\n",
              "    <tr style=\"text-align: right;\">\n",
              "      <th></th>\n",
              "      <th>address</th>\n",
              "      <th>price</th>\n",
              "      <th>area</th>\n",
              "      <th>oblast</th>\n",
              "    </tr>\n",
              "  </thead>\n",
              "  <tbody>\n",
              "    <tr>\n",
              "      <th>0</th>\n",
              "      <td>бишкек, кустанайская</td>\n",
              "      <td>45500.0</td>\n",
              "      <td>240.0</td>\n",
              "      <td>1.0</td>\n",
              "    </tr>\n",
              "    <tr>\n",
              "      <th>1</th>\n",
              "      <td>бишкек, рухий мурас ж/м, рухий-мурас 5-я</td>\n",
              "      <td>50000.0</td>\n",
              "      <td>0.0</td>\n",
              "      <td>1.0</td>\n",
              "    </tr>\n",
              "    <tr>\n",
              "      <th>2</th>\n",
              "      <td>бишкек, ак-ордо ж/м, белек</td>\n",
              "      <td>37000.0</td>\n",
              "      <td>500.0</td>\n",
              "      <td>1.0</td>\n",
              "    </tr>\n",
              "    <tr>\n",
              "      <th>3</th>\n",
              "      <td>бишкек, восточная 5</td>\n",
              "      <td>30000.0</td>\n",
              "      <td>700.0</td>\n",
              "      <td>1.0</td>\n",
              "    </tr>\n",
              "    <tr>\n",
              "      <th>4</th>\n",
              "      <td>бишкек, кызыл-аскер ж/м, кумарыкская 40 а</td>\n",
              "      <td>54000.0</td>\n",
              "      <td>300.0</td>\n",
              "      <td>1.0</td>\n",
              "    </tr>\n",
              "  </tbody>\n",
              "</table>\n",
              "</div>\n",
              "    <div class=\"colab-df-buttons\">\n",
              "\n",
              "  <div class=\"colab-df-container\">\n",
              "    <button class=\"colab-df-convert\" onclick=\"convertToInteractive('df-77492fcd-2dc7-435d-bcf7-87f16b050641')\"\n",
              "            title=\"Convert this dataframe to an interactive table.\"\n",
              "            style=\"display:none;\">\n",
              "\n",
              "  <svg xmlns=\"http://www.w3.org/2000/svg\" height=\"24px\" viewBox=\"0 -960 960 960\">\n",
              "    <path d=\"M120-120v-720h720v720H120Zm60-500h600v-160H180v160Zm220 220h160v-160H400v160Zm0 220h160v-160H400v160ZM180-400h160v-160H180v160Zm440 0h160v-160H620v160ZM180-180h160v-160H180v160Zm440 0h160v-160H620v160Z\"/>\n",
              "  </svg>\n",
              "    </button>\n",
              "\n",
              "  <style>\n",
              "    .colab-df-container {\n",
              "      display:flex;\n",
              "      gap: 12px;\n",
              "    }\n",
              "\n",
              "    .colab-df-convert {\n",
              "      background-color: #E8F0FE;\n",
              "      border: none;\n",
              "      border-radius: 50%;\n",
              "      cursor: pointer;\n",
              "      display: none;\n",
              "      fill: #1967D2;\n",
              "      height: 32px;\n",
              "      padding: 0 0 0 0;\n",
              "      width: 32px;\n",
              "    }\n",
              "\n",
              "    .colab-df-convert:hover {\n",
              "      background-color: #E2EBFA;\n",
              "      box-shadow: 0px 1px 2px rgba(60, 64, 67, 0.3), 0px 1px 3px 1px rgba(60, 64, 67, 0.15);\n",
              "      fill: #174EA6;\n",
              "    }\n",
              "\n",
              "    .colab-df-buttons div {\n",
              "      margin-bottom: 4px;\n",
              "    }\n",
              "\n",
              "    [theme=dark] .colab-df-convert {\n",
              "      background-color: #3B4455;\n",
              "      fill: #D2E3FC;\n",
              "    }\n",
              "\n",
              "    [theme=dark] .colab-df-convert:hover {\n",
              "      background-color: #434B5C;\n",
              "      box-shadow: 0px 1px 3px 1px rgba(0, 0, 0, 0.15);\n",
              "      filter: drop-shadow(0px 1px 2px rgba(0, 0, 0, 0.3));\n",
              "      fill: #FFFFFF;\n",
              "    }\n",
              "  </style>\n",
              "\n",
              "    <script>\n",
              "      const buttonEl =\n",
              "        document.querySelector('#df-77492fcd-2dc7-435d-bcf7-87f16b050641 button.colab-df-convert');\n",
              "      buttonEl.style.display =\n",
              "        google.colab.kernel.accessAllowed ? 'block' : 'none';\n",
              "\n",
              "      async function convertToInteractive(key) {\n",
              "        const element = document.querySelector('#df-77492fcd-2dc7-435d-bcf7-87f16b050641');\n",
              "        const dataTable =\n",
              "          await google.colab.kernel.invokeFunction('convertToInteractive',\n",
              "                                                    [key], {});\n",
              "        if (!dataTable) return;\n",
              "\n",
              "        const docLinkHtml = 'Like what you see? Visit the ' +\n",
              "          '<a target=\"_blank\" href=https://colab.research.google.com/notebooks/data_table.ipynb>data table notebook</a>'\n",
              "          + ' to learn more about interactive tables.';\n",
              "        element.innerHTML = '';\n",
              "        dataTable['output_type'] = 'display_data';\n",
              "        await google.colab.output.renderOutput(dataTable, element);\n",
              "        const docLink = document.createElement('div');\n",
              "        docLink.innerHTML = docLinkHtml;\n",
              "        element.appendChild(docLink);\n",
              "      }\n",
              "    </script>\n",
              "  </div>\n",
              "\n",
              "\n",
              "<div id=\"df-f7ef3076-b586-4d3b-bd34-71a2ea08d4e7\">\n",
              "  <button class=\"colab-df-quickchart\" onclick=\"quickchart('df-f7ef3076-b586-4d3b-bd34-71a2ea08d4e7')\"\n",
              "            title=\"Suggest charts\"\n",
              "            style=\"display:none;\">\n",
              "\n",
              "<svg xmlns=\"http://www.w3.org/2000/svg\" height=\"24px\"viewBox=\"0 0 24 24\"\n",
              "     width=\"24px\">\n",
              "    <g>\n",
              "        <path d=\"M19 3H5c-1.1 0-2 .9-2 2v14c0 1.1.9 2 2 2h14c1.1 0 2-.9 2-2V5c0-1.1-.9-2-2-2zM9 17H7v-7h2v7zm4 0h-2V7h2v10zm4 0h-2v-4h2v4z\"/>\n",
              "    </g>\n",
              "</svg>\n",
              "  </button>\n",
              "\n",
              "<style>\n",
              "  .colab-df-quickchart {\n",
              "      --bg-color: #E8F0FE;\n",
              "      --fill-color: #1967D2;\n",
              "      --hover-bg-color: #E2EBFA;\n",
              "      --hover-fill-color: #174EA6;\n",
              "      --disabled-fill-color: #AAA;\n",
              "      --disabled-bg-color: #DDD;\n",
              "  }\n",
              "\n",
              "  [theme=dark] .colab-df-quickchart {\n",
              "      --bg-color: #3B4455;\n",
              "      --fill-color: #D2E3FC;\n",
              "      --hover-bg-color: #434B5C;\n",
              "      --hover-fill-color: #FFFFFF;\n",
              "      --disabled-bg-color: #3B4455;\n",
              "      --disabled-fill-color: #666;\n",
              "  }\n",
              "\n",
              "  .colab-df-quickchart {\n",
              "    background-color: var(--bg-color);\n",
              "    border: none;\n",
              "    border-radius: 50%;\n",
              "    cursor: pointer;\n",
              "    display: none;\n",
              "    fill: var(--fill-color);\n",
              "    height: 32px;\n",
              "    padding: 0;\n",
              "    width: 32px;\n",
              "  }\n",
              "\n",
              "  .colab-df-quickchart:hover {\n",
              "    background-color: var(--hover-bg-color);\n",
              "    box-shadow: 0 1px 2px rgba(60, 64, 67, 0.3), 0 1px 3px 1px rgba(60, 64, 67, 0.15);\n",
              "    fill: var(--button-hover-fill-color);\n",
              "  }\n",
              "\n",
              "  .colab-df-quickchart-complete:disabled,\n",
              "  .colab-df-quickchart-complete:disabled:hover {\n",
              "    background-color: var(--disabled-bg-color);\n",
              "    fill: var(--disabled-fill-color);\n",
              "    box-shadow: none;\n",
              "  }\n",
              "\n",
              "  .colab-df-spinner {\n",
              "    border: 2px solid var(--fill-color);\n",
              "    border-color: transparent;\n",
              "    border-bottom-color: var(--fill-color);\n",
              "    animation:\n",
              "      spin 1s steps(1) infinite;\n",
              "  }\n",
              "\n",
              "  @keyframes spin {\n",
              "    0% {\n",
              "      border-color: transparent;\n",
              "      border-bottom-color: var(--fill-color);\n",
              "      border-left-color: var(--fill-color);\n",
              "    }\n",
              "    20% {\n",
              "      border-color: transparent;\n",
              "      border-left-color: var(--fill-color);\n",
              "      border-top-color: var(--fill-color);\n",
              "    }\n",
              "    30% {\n",
              "      border-color: transparent;\n",
              "      border-left-color: var(--fill-color);\n",
              "      border-top-color: var(--fill-color);\n",
              "      border-right-color: var(--fill-color);\n",
              "    }\n",
              "    40% {\n",
              "      border-color: transparent;\n",
              "      border-right-color: var(--fill-color);\n",
              "      border-top-color: var(--fill-color);\n",
              "    }\n",
              "    60% {\n",
              "      border-color: transparent;\n",
              "      border-right-color: var(--fill-color);\n",
              "    }\n",
              "    80% {\n",
              "      border-color: transparent;\n",
              "      border-right-color: var(--fill-color);\n",
              "      border-bottom-color: var(--fill-color);\n",
              "    }\n",
              "    90% {\n",
              "      border-color: transparent;\n",
              "      border-bottom-color: var(--fill-color);\n",
              "    }\n",
              "  }\n",
              "</style>\n",
              "\n",
              "  <script>\n",
              "    async function quickchart(key) {\n",
              "      const quickchartButtonEl =\n",
              "        document.querySelector('#' + key + ' button');\n",
              "      quickchartButtonEl.disabled = true;  // To prevent multiple clicks.\n",
              "      quickchartButtonEl.classList.add('colab-df-spinner');\n",
              "      try {\n",
              "        const charts = await google.colab.kernel.invokeFunction(\n",
              "            'suggestCharts', [key], {});\n",
              "      } catch (error) {\n",
              "        console.error('Error during call to suggestCharts:', error);\n",
              "      }\n",
              "      quickchartButtonEl.classList.remove('colab-df-spinner');\n",
              "      quickchartButtonEl.classList.add('colab-df-quickchart-complete');\n",
              "    }\n",
              "    (() => {\n",
              "      let quickchartButtonEl =\n",
              "        document.querySelector('#df-f7ef3076-b586-4d3b-bd34-71a2ea08d4e7 button');\n",
              "      quickchartButtonEl.style.display =\n",
              "        google.colab.kernel.accessAllowed ? 'block' : 'none';\n",
              "    })();\n",
              "  </script>\n",
              "</div>\n",
              "\n",
              "    </div>\n",
              "  </div>\n"
            ]
          },
          "metadata": {},
          "execution_count": 49
        }
      ]
    },
    {
      "cell_type": "code",
      "source": [
        "df.oblast.unique()"
      ],
      "metadata": {
        "id": "w95AgwbysmO0",
        "colab": {
          "base_uri": "https://localhost:8080/"
        },
        "outputId": "4d6751cf-0c6b-4507-c236-5f6d0e1c0099"
      },
      "execution_count": 50,
      "outputs": [
        {
          "output_type": "execute_result",
          "data": {
            "text/plain": [
              "array([1., 2.])"
            ]
          },
          "metadata": {},
          "execution_count": 50
        }
      ]
    },
    {
      "cell_type": "markdown",
      "source": [
        "Нам следует посмотреть на его структуру, выяснить типы данных по колонкам, проверить пропуски, уникальные значения итд.. Посмотрим и обсудим!"
      ],
      "metadata": {
        "id": "n_UDjMOiso2H"
      }
    },
    {
      "cell_type": "code",
      "source": [
        "df.info()"
      ],
      "metadata": {
        "id": "Tb_NeNFAsmMv",
        "colab": {
          "base_uri": "https://localhost:8080/"
        },
        "outputId": "7f3d9270-a804-480b-f0c9-5afb3322c1b2"
      },
      "execution_count": 51,
      "outputs": [
        {
          "output_type": "stream",
          "name": "stdout",
          "text": [
            "<class 'pandas.core.frame.DataFrame'>\n",
            "RangeIndex: 400 entries, 0 to 399\n",
            "Data columns (total 4 columns):\n",
            " #   Column   Non-Null Count  Dtype  \n",
            "---  ------   --------------  -----  \n",
            " 0   address  400 non-null    object \n",
            " 1   price    399 non-null    float64\n",
            " 2   area     400 non-null    float64\n",
            " 3   oblast   400 non-null    float64\n",
            "dtypes: float64(3), object(1)\n",
            "memory usage: 12.6+ KB\n"
          ]
        }
      ]
    },
    {
      "cell_type": "markdown",
      "source": [
        "Почистим пропуски, нули в важных фичах."
      ],
      "metadata": {
        "id": "Q6ckV5OGvp3w"
      }
    },
    {
      "cell_type": "code",
      "source": [
        "df = df[df.price.notnull()]"
      ],
      "metadata": {
        "id": "aH48QyW8smKi"
      },
      "execution_count": 61,
      "outputs": []
    },
    {
      "cell_type": "code",
      "source": [
        "df = df[df.area != 0]"
      ],
      "metadata": {
        "id": "GWmccr5LGqB-"
      },
      "execution_count": 62,
      "outputs": []
    },
    {
      "cell_type": "code",
      "source": [],
      "metadata": {
        "id": "jnbZh8GPGp1J"
      },
      "execution_count": null,
      "outputs": []
    },
    {
      "cell_type": "markdown",
      "source": [
        "# Задача 5\n",
        "\n",
        "Обычно цена, которая указывается в объявлении завышена. Для пущей уверенности давайте снизим ее на 5%"
      ],
      "metadata": {
        "id": "kgRp6aBFtALI"
      }
    },
    {
      "cell_type": "code",
      "source": [
        "df.price = df.price*0.95"
      ],
      "metadata": {
        "id": "3tx1ZKdzsmF9"
      },
      "execution_count": 65,
      "outputs": []
    },
    {
      "cell_type": "code",
      "source": [],
      "metadata": {
        "id": "baQySIgKsmDY"
      },
      "execution_count": null,
      "outputs": []
    },
    {
      "cell_type": "markdown",
      "source": [
        "# Задача 6\n",
        "\n",
        "Цена, конечно, это хорошо, но не всегда она информативна для понимания рынка. Давайте создадим новую колонку 'pr_sq', в которой будет указана стоимость одной сотки участка. Площадь участка в датасете представлена в квадратных метрах. 1 сотка - это 100 квадратных метров.\n",
        "\n",
        "Важно учесть, что если в колонке площади есть пропуски или нули, то это может испортить данные. Давайте сперва выкинем из датасета такие строки, где не указана площадь.\n",
        "\n",
        "Есть ли рзличия в стоимости земли в регионе 1 и регионе 2?"
      ],
      "metadata": {
        "id": "5qfqQEu5tdJL"
      }
    },
    {
      "cell_type": "code",
      "source": [
        "df['pr_sq'] = df.price/(df.area/100)"
      ],
      "metadata": {
        "id": "Ug2wfLzCtcQJ"
      },
      "execution_count": 69,
      "outputs": []
    },
    {
      "cell_type": "code",
      "source": [
        "df.loc[df.oblast == 1,'pr_sq'].median()"
      ],
      "metadata": {
        "id": "FzoM1msdWN2s",
        "outputId": "1e023fc1-81a9-472c-ef55-62f25cc64e8c",
        "colab": {
          "base_uri": "https://localhost:8080/"
        }
      },
      "execution_count": 73,
      "outputs": [
        {
          "output_type": "execute_result",
          "data": {
            "text/plain": [
              "9025.0"
            ]
          },
          "metadata": {},
          "execution_count": 73
        }
      ]
    },
    {
      "cell_type": "code",
      "source": [
        "df.loc[df.oblast == 2,'pr_sq'].median()"
      ],
      "metadata": {
        "id": "vbXEdxtg8Bab",
        "outputId": "b592fa37-9430-4fcd-f4f3-bef8e1e05876",
        "colab": {
          "base_uri": "https://localhost:8080/"
        }
      },
      "execution_count": 72,
      "outputs": [
        {
          "output_type": "execute_result",
          "data": {
            "text/plain": [
              "1005.8823529411765"
            ]
          },
          "metadata": {},
          "execution_count": 72
        }
      ]
    },
    {
      "cell_type": "code",
      "source": [
        "sns.boxplot(x = df.pr_sq, y = df.oblast.astype(str))"
      ],
      "metadata": {
        "id": "CtwDv7WR8Zze",
        "outputId": "7ad43bff-92dc-4dd1-8494-fd576af458cb",
        "colab": {
          "base_uri": "https://localhost:8080/",
          "height": 466
        }
      },
      "execution_count": 75,
      "outputs": [
        {
          "output_type": "execute_result",
          "data": {
            "text/plain": [
              "<Axes: xlabel='pr_sq', ylabel='oblast'>"
            ]
          },
          "metadata": {},
          "execution_count": 75
        },
        {
          "output_type": "display_data",
          "data": {
            "text/plain": [
              "<Figure size 640x480 with 1 Axes>"
            ],
            "image/png": "[encoded data removed]"
          },
          "metadata": {}
        }
      ]
    },
    {
      "cell_type": "code",
      "source": [
        "sns.kdeplot(data = df, x = 'pr_sq', hue = 'oblast')"
      ],
      "metadata": {
        "id": "Lae_qUei83XX",
        "outputId": "701e798e-34ad-41eb-b935-e93defc28c97",
        "colab": {
          "base_uri": "https://localhost:8080/",
          "height": 466
        }
      },
      "execution_count": 76,
      "outputs": [
        {
          "output_type": "execute_result",
          "data": {
            "text/plain": [
              "<Axes: xlabel='pr_sq', ylabel='Density'>"
            ]
          },
          "metadata": {},
          "execution_count": 76
        },
        {
          "output_type": "display_data",
          "data": {
            "text/plain": [
              "<Figure size 640x480 with 1 Axes>"
            ],
            "image/png": "[encoded data removed]"
          },
          "metadata": {}
        }
      ]
    },
    {
      "cell_type": "markdown",
      "source": [
        "# Задача 7\n",
        "\n",
        "В датасете есть колонка с адресом. Давайте создадим колонку с названием города\\села и ее содержимое достанем из колонки адреса. Новую колонку назовем 'locality'"
      ],
      "metadata": {
        "id": "IBACyZrduDw6"
      }
    },
    {
      "cell_type": "code",
      "source": [
        "df.head()"
      ],
      "metadata": {
        "id": "3sUVY4nAtcN7",
        "outputId": "c6aabff1-fad4-48be-cc7f-e25ff3969604",
        "colab": {
          "base_uri": "https://localhost:8080/",
          "height": 206
        }
      },
      "execution_count": 79,
      "outputs": [
        {
          "output_type": "execute_result",
          "data": {
            "text/plain": [
              "                                     address    price   area  oblast  \\\n",
              "0                       бишкек, кустанайская  43225.0  240.0     1.0   \n",
              "2                 бишкек, ак-ордо ж/м, белек  35150.0  500.0     1.0   \n",
              "3                        бишкек, восточная 5  28500.0  700.0     1.0   \n",
              "4  бишкек, кызыл-аскер ж/м, кумарыкская 40 а  51300.0  300.0     1.0   \n",
              "5                        бишкек, кок-жар ж/м  42750.0  400.0     1.0   \n",
              "\n",
              "          pr_sq  \n",
              "0  18010.416667  \n",
              "2   7030.000000  \n",
              "3   4071.428571  \n",
              "4  17100.000000  \n",
              "5  10687.500000  "
            ],
            "text/html": [
              "\n",
              "  <div id=\"df-2b91c43d-41b6-44b5-b58e-0be3a6035dc4\" class=\"colab-df-container\">\n",
              "    <div>\n",
              "<style scoped>\n",
              "    .dataframe tbody tr th:only-of-type {\n",
              "        vertical-align: middle;\n",
              "    }\n",
              "\n",
              "    .dataframe tbody tr th {\n",
              "        vertical-align: top;\n",
              "    }\n",
              "\n",
              "    .dataframe thead th {\n",
              "        text-align: right;\n",
              "    }\n",
              "</style>\n",
              "<table border=\"1\" class=\"dataframe\">\n",
              "  <thead>\n",
              "    <tr style=\"text-align: right;\">\n",
              "      <th></th>\n",
              "      <th>address</th>\n",
              "      <th>price</th>\n",
              "      <th>area</th>\n",
              "      <th>oblast</th>\n",
              "      <th>pr_sq</th>\n",
              "    </tr>\n",
              "  </thead>\n",
              "  <tbody>\n",
              "    <tr>\n",
              "      <th>0</th>\n",
              "      <td>бишкек, кустанайская</td>\n",
              "      <td>43225.0</td>\n",
              "      <td>240.0</td>\n",
              "      <td>1.0</td>\n",
              "      <td>18010.416667</td>\n",
              "    </tr>\n",
              "    <tr>\n",
              "      <th>2</th>\n",
              "      <td>бишкек, ак-ордо ж/м, белек</td>\n",
              "      <td>35150.0</td>\n",
              "      <td>500.0</td>\n",
              "      <td>1.0</td>\n",
              "      <td>7030.000000</td>\n",
              "    </tr>\n",
              "    <tr>\n",
              "      <th>3</th>\n",
              "      <td>бишкек, восточная 5</td>\n",
              "      <td>28500.0</td>\n",
              "      <td>700.0</td>\n",
              "      <td>1.0</td>\n",
              "      <td>4071.428571</td>\n",
              "    </tr>\n",
              "    <tr>\n",
              "      <th>4</th>\n",
              "      <td>бишкек, кызыл-аскер ж/м, кумарыкская 40 а</td>\n",
              "      <td>51300.0</td>\n",
              "      <td>300.0</td>\n",
              "      <td>1.0</td>\n",
              "      <td>17100.000000</td>\n",
              "    </tr>\n",
              "    <tr>\n",
              "      <th>5</th>\n",
              "      <td>бишкек, кок-жар ж/м</td>\n",
              "      <td>42750.0</td>\n",
              "      <td>400.0</td>\n",
              "      <td>1.0</td>\n",
              "      <td>10687.500000</td>\n",
              "    </tr>\n",
              "  </tbody>\n",
              "</table>\n",
              "</div>\n",
              "    <div class=\"colab-df-buttons\">\n",
              "\n",
              "  <div class=\"colab-df-container\">\n",
              "    <button class=\"colab-df-convert\" onclick=\"convertToInteractive('df-2b91c43d-41b6-44b5-b58e-0be3a6035dc4')\"\n",
              "            title=\"Convert this dataframe to an interactive table.\"\n",
              "            style=\"display:none;\">\n",
              "\n",
              "  <svg xmlns=\"http://www.w3.org/2000/svg\" height=\"24px\" viewBox=\"0 -960 960 960\">\n",
              "    <path d=\"M120-120v-720h720v720H120Zm60-500h600v-160H180v160Zm220 220h160v-160H400v160Zm0 220h160v-160H400v160ZM180-400h160v-160H180v160Zm440 0h160v-160H620v160ZM180-180h160v-160H180v160Zm440 0h160v-160H620v160Z\"/>\n",
              "  </svg>\n",
              "    </button>\n",
              "\n",
              "  <style>\n",
              "    .colab-df-container {\n",
              "      display:flex;\n",
              "      gap: 12px;\n",
              "    }\n",
              "\n",
              "    .colab-df-convert {\n",
              "      background-color: #E8F0FE;\n",
              "      border: none;\n",
              "      border-radius: 50%;\n",
              "      cursor: pointer;\n",
              "      display: none;\n",
              "      fill: #1967D2;\n",
              "      height: 32px;\n",
              "      padding: 0 0 0 0;\n",
              "      width: 32px;\n",
              "    }\n",
              "\n",
              "    .colab-df-convert:hover {\n",
              "      background-color: #E2EBFA;\n",
              "      box-shadow: 0px 1px 2px rgba(60, 64, 67, 0.3), 0px 1px 3px 1px rgba(60, 64, 67, 0.15);\n",
              "      fill: #174EA6;\n",
              "    }\n",
              "\n",
              "    .colab-df-buttons div {\n",
              "      margin-bottom: 4px;\n",
              "    }\n",
              "\n",
              "    [theme=dark] .colab-df-convert {\n",
              "      background-color: #3B4455;\n",
              "      fill: #D2E3FC;\n",
              "    }\n",
              "\n",
              "    [theme=dark] .colab-df-convert:hover {\n",
              "      background-color: #434B5C;\n",
              "      box-shadow: 0px 1px 3px 1px rgba(0, 0, 0, 0.15);\n",
              "      filter: drop-shadow(0px 1px 2px rgba(0, 0, 0, 0.3));\n",
              "      fill: #FFFFFF;\n",
              "    }\n",
              "  </style>\n",
              "\n",
              "    <script>\n",
              "      const buttonEl =\n",
              "        document.querySelector('#df-2b91c43d-41b6-44b5-b58e-0be3a6035dc4 button.colab-df-convert');\n",
              "      buttonEl.style.display =\n",
              "        google.colab.kernel.accessAllowed ? 'block' : 'none';\n",
              "\n",
              "      async function convertToInteractive(key) {\n",
              "        const element = document.querySelector('#df-2b91c43d-41b6-44b5-b58e-0be3a6035dc4');\n",
              "        const dataTable =\n",
              "          await google.colab.kernel.invokeFunction('convertToInteractive',\n",
              "                                                    [key], {});\n",
              "        if (!dataTable) return;\n",
              "\n",
              "        const docLinkHtml = 'Like what you see? Visit the ' +\n",
              "          '<a target=\"_blank\" href=https://colab.research.google.com/notebooks/data_table.ipynb>data table notebook</a>'\n",
              "          + ' to learn more about interactive tables.';\n",
              "        element.innerHTML = '';\n",
              "        dataTable['output_type'] = 'display_data';\n",
              "        await google.colab.output.renderOutput(dataTable, element);\n",
              "        const docLink = document.createElement('div');\n",
              "        docLink.innerHTML = docLinkHtml;\n",
              "        element.appendChild(docLink);\n",
              "      }\n",
              "    </script>\n",
              "  </div>\n",
              "\n",
              "\n",
              "<div id=\"df-f4a87695-0ad4-4120-b2e4-ea766b29084f\">\n",
              "  <button class=\"colab-df-quickchart\" onclick=\"quickchart('df-f4a87695-0ad4-4120-b2e4-ea766b29084f')\"\n",
              "            title=\"Suggest charts\"\n",
              "            style=\"display:none;\">\n",
              "\n",
              "<svg xmlns=\"http://www.w3.org/2000/svg\" height=\"24px\"viewBox=\"0 0 24 24\"\n",
              "     width=\"24px\">\n",
              "    <g>\n",
              "        <path d=\"M19 3H5c-1.1 0-2 .9-2 2v14c0 1.1.9 2 2 2h14c1.1 0 2-.9 2-2V5c0-1.1-.9-2-2-2zM9 17H7v-7h2v7zm4 0h-2V7h2v10zm4 0h-2v-4h2v4z\"/>\n",
              "    </g>\n",
              "</svg>\n",
              "  </button>\n",
              "\n",
              "<style>\n",
              "  .colab-df-quickchart {\n",
              "      --bg-color: #E8F0FE;\n",
              "      --fill-color: #1967D2;\n",
              "      --hover-bg-color: #E2EBFA;\n",
              "      --hover-fill-color: #174EA6;\n",
              "      --disabled-fill-color: #AAA;\n",
              "      --disabled-bg-color: #DDD;\n",
              "  }\n",
              "\n",
              "  [theme=dark] .colab-df-quickchart {\n",
              "      --bg-color: #3B4455;\n",
              "      --fill-color: #D2E3FC;\n",
              "      --hover-bg-color: #434B5C;\n",
              "      --hover-fill-color: #FFFFFF;\n",
              "      --disabled-bg-color: #3B4455;\n",
              "      --disabled-fill-color: #666;\n",
              "  }\n",
              "\n",
              "  .colab-df-quickchart {\n",
              "    background-color: var(--bg-color);\n",
              "    border: none;\n",
              "    border-radius: 50%;\n",
              "    cursor: pointer;\n",
              "    display: none;\n",
              "    fill: var(--fill-color);\n",
              "    height: 32px;\n",
              "    padding: 0;\n",
              "    width: 32px;\n",
              "  }\n",
              "\n",
              "  .colab-df-quickchart:hover {\n",
              "    background-color: var(--hover-bg-color);\n",
              "    box-shadow: 0 1px 2px rgba(60, 64, 67, 0.3), 0 1px 3px 1px rgba(60, 64, 67, 0.15);\n",
              "    fill: var(--button-hover-fill-color);\n",
              "  }\n",
              "\n",
              "  .colab-df-quickchart-complete:disabled,\n",
              "  .colab-df-quickchart-complete:disabled:hover {\n",
              "    background-color: var(--disabled-bg-color);\n",
              "    fill: var(--disabled-fill-color);\n",
              "    box-shadow: none;\n",
              "  }\n",
              "\n",
              "  .colab-df-spinner {\n",
              "    border: 2px solid var(--fill-color);\n",
              "    border-color: transparent;\n",
              "    border-bottom-color: var(--fill-color);\n",
              "    animation:\n",
              "      spin 1s steps(1) infinite;\n",
              "  }\n",
              "\n",
              "  @keyframes spin {\n",
              "    0% {\n",
              "      border-color: transparent;\n",
              "      border-bottom-color: var(--fill-color);\n",
              "      border-left-color: var(--fill-color);\n",
              "    }\n",
              "    20% {\n",
              "      border-color: transparent;\n",
              "      border-left-color: var(--fill-color);\n",
              "      border-top-color: var(--fill-color);\n",
              "    }\n",
              "    30% {\n",
              "      border-color: transparent;\n",
              "      border-left-color: var(--fill-color);\n",
              "      border-top-color: var(--fill-color);\n",
              "      border-right-color: var(--fill-color);\n",
              "    }\n",
              "    40% {\n",
              "      border-color: transparent;\n",
              "      border-right-color: var(--fill-color);\n",
              "      border-top-color: var(--fill-color);\n",
              "    }\n",
              "    60% {\n",
              "      border-color: transparent;\n",
              "      border-right-color: var(--fill-color);\n",
              "    }\n",
              "    80% {\n",
              "      border-color: transparent;\n",
              "      border-right-color: var(--fill-color);\n",
              "      border-bottom-color: var(--fill-color);\n",
              "    }\n",
              "    90% {\n",
              "      border-color: transparent;\n",
              "      border-bottom-color: var(--fill-color);\n",
              "    }\n",
              "  }\n",
              "</style>\n",
              "\n",
              "  <script>\n",
              "    async function quickchart(key) {\n",
              "      const quickchartButtonEl =\n",
              "        document.querySelector('#' + key + ' button');\n",
              "      quickchartButtonEl.disabled = true;  // To prevent multiple clicks.\n",
              "      quickchartButtonEl.classList.add('colab-df-spinner');\n",
              "      try {\n",
              "        const charts = await google.colab.kernel.invokeFunction(\n",
              "            'suggestCharts', [key], {});\n",
              "      } catch (error) {\n",
              "        console.error('Error during call to suggestCharts:', error);\n",
              "      }\n",
              "      quickchartButtonEl.classList.remove('colab-df-spinner');\n",
              "      quickchartButtonEl.classList.add('colab-df-quickchart-complete');\n",
              "    }\n",
              "    (() => {\n",
              "      let quickchartButtonEl =\n",
              "        document.querySelector('#df-f4a87695-0ad4-4120-b2e4-ea766b29084f button');\n",
              "      quickchartButtonEl.style.display =\n",
              "        google.colab.kernel.accessAllowed ? 'block' : 'none';\n",
              "    })();\n",
              "  </script>\n",
              "</div>\n",
              "\n",
              "    </div>\n",
              "  </div>\n"
            ]
          },
          "metadata": {},
          "execution_count": 79
        }
      ]
    },
    {
      "cell_type": "code",
      "source": [
        "df['city'] = df.address.map(lambda i: i.split(', ')[0].replace('c. ','').title())"
      ],
      "metadata": {
        "id": "qGyR-vTjtcLg"
      },
      "execution_count": 91,
      "outputs": []
    },
    {
      "cell_type": "code",
      "source": [
        "df.head()"
      ],
      "metadata": {
        "id": "ZCEL1c8csl-c",
        "outputId": "d54825cd-87de-4920-e83e-0f7efb6380d8",
        "colab": {
          "base_uri": "https://localhost:8080/",
          "height": 206
        }
      },
      "execution_count": 93,
      "outputs": [
        {
          "output_type": "execute_result",
          "data": {
            "text/plain": [
              "                                     address    price   area  oblast  \\\n",
              "0                       бишкек, кустанайская  43225.0  240.0     1.0   \n",
              "2                 бишкек, ак-ордо ж/м, белек  35150.0  500.0     1.0   \n",
              "3                        бишкек, восточная 5  28500.0  700.0     1.0   \n",
              "4  бишкек, кызыл-аскер ж/м, кумарыкская 40 а  51300.0  300.0     1.0   \n",
              "5                        бишкек, кок-жар ж/м  42750.0  400.0     1.0   \n",
              "\n",
              "          pr_sq    city  \n",
              "0  18010.416667  Бишкек  \n",
              "2   7030.000000  Бишкек  \n",
              "3   4071.428571  Бишкек  \n",
              "4  17100.000000  Бишкек  \n",
              "5  10687.500000  Бишкек  "
            ],
            "text/html": [
              "\n",
              "  <div id=\"df-79e3e8dd-1c8e-41d0-8fe3-bc5f67213c24\" class=\"colab-df-container\">\n",
              "    <div>\n",
              "<style scoped>\n",
              "    .dataframe tbody tr th:only-of-type {\n",
              "        vertical-align: middle;\n",
              "    }\n",
              "\n",
              "    .dataframe tbody tr th {\n",
              "        vertical-align: top;\n",
              "    }\n",
              "\n",
              "    .dataframe thead th {\n",
              "        text-align: right;\n",
              "    }\n",
              "</style>\n",
              "<table border=\"1\" class=\"dataframe\">\n",
              "  <thead>\n",
              "    <tr style=\"text-align: right;\">\n",
              "      <th></th>\n",
              "      <th>address</th>\n",
              "      <th>price</th>\n",
              "      <th>area</th>\n",
              "      <th>oblast</th>\n",
              "      <th>pr_sq</th>\n",
              "      <th>city</th>\n",
              "    </tr>\n",
              "  </thead>\n",
              "  <tbody>\n",
              "    <tr>\n",
              "      <th>0</th>\n",
              "      <td>бишкек, кустанайская</td>\n",
              "      <td>43225.0</td>\n",
              "      <td>240.0</td>\n",
              "      <td>1.0</td>\n",
              "      <td>18010.416667</td>\n",
              "      <td>Бишкек</td>\n",
              "    </tr>\n",
              "    <tr>\n",
              "      <th>2</th>\n",
              "      <td>бишкек, ак-ордо ж/м, белек</td>\n",
              "      <td>35150.0</td>\n",
              "      <td>500.0</td>\n",
              "      <td>1.0</td>\n",
              "      <td>7030.000000</td>\n",
              "      <td>Бишкек</td>\n",
              "    </tr>\n",
              "    <tr>\n",
              "      <th>3</th>\n",
              "      <td>бишкек, восточная 5</td>\n",
              "      <td>28500.0</td>\n",
              "      <td>700.0</td>\n",
              "      <td>1.0</td>\n",
              "      <td>4071.428571</td>\n",
              "      <td>Бишкек</td>\n",
              "    </tr>\n",
              "    <tr>\n",
              "      <th>4</th>\n",
              "      <td>бишкек, кызыл-аскер ж/м, кумарыкская 40 а</td>\n",
              "      <td>51300.0</td>\n",
              "      <td>300.0</td>\n",
              "      <td>1.0</td>\n",
              "      <td>17100.000000</td>\n",
              "      <td>Бишкек</td>\n",
              "    </tr>\n",
              "    <tr>\n",
              "      <th>5</th>\n",
              "      <td>бишкек, кок-жар ж/м</td>\n",
              "      <td>42750.0</td>\n",
              "      <td>400.0</td>\n",
              "      <td>1.0</td>\n",
              "      <td>10687.500000</td>\n",
              "      <td>Бишкек</td>\n",
              "    </tr>\n",
              "  </tbody>\n",
              "</table>\n",
              "</div>\n",
              "    <div class=\"colab-df-buttons\">\n",
              "\n",
              "  <div class=\"colab-df-container\">\n",
              "    <button class=\"colab-df-convert\" onclick=\"convertToInteractive('df-79e3e8dd-1c8e-41d0-8fe3-bc5f67213c24')\"\n",
              "            title=\"Convert this dataframe to an interactive table.\"\n",
              "            style=\"display:none;\">\n",
              "\n",
              "  <svg xmlns=\"http://www.w3.org/2000/svg\" height=\"24px\" viewBox=\"0 -960 960 960\">\n",
              "    <path d=\"M120-120v-720h720v720H120Zm60-500h600v-160H180v160Zm220 220h160v-160H400v160Zm0 220h160v-160H400v160ZM180-400h160v-160H180v160Zm440 0h160v-160H620v160ZM180-180h160v-160H180v160Zm440 0h160v-160H620v160Z\"/>\n",
              "  </svg>\n",
              "    </button>\n",
              "\n",
              "  <style>\n",
              "    .colab-df-container {\n",
              "      display:flex;\n",
              "      gap: 12px;\n",
              "    }\n",
              "\n",
              "    .colab-df-convert {\n",
              "      background-color: #E8F0FE;\n",
              "      border: none;\n",
              "      border-radius: 50%;\n",
              "      cursor: pointer;\n",
              "      display: none;\n",
              "      fill: #1967D2;\n",
              "      height: 32px;\n",
              "      padding: 0 0 0 0;\n",
              "      width: 32px;\n",
              "    }\n",
              "\n",
              "    .colab-df-convert:hover {\n",
              "      background-color: #E2EBFA;\n",
              "      box-shadow: 0px 1px 2px rgba(60, 64, 67, 0.3), 0px 1px 3px 1px rgba(60, 64, 67, 0.15);\n",
              "      fill: #174EA6;\n",
              "    }\n",
              "\n",
              "    .colab-df-buttons div {\n",
              "      margin-bottom: 4px;\n",
              "    }\n",
              "\n",
              "    [theme=dark] .colab-df-convert {\n",
              "      background-color: #3B4455;\n",
              "      fill: #D2E3FC;\n",
              "    }\n",
              "\n",
              "    [theme=dark] .colab-df-convert:hover {\n",
              "      background-color: #434B5C;\n",
              "      box-shadow: 0px 1px 3px 1px rgba(0, 0, 0, 0.15);\n",
              "      filter: drop-shadow(0px 1px 2px rgba(0, 0, 0, 0.3));\n",
              "      fill: #FFFFFF;\n",
              "    }\n",
              "  </style>\n",
              "\n",
              "    <script>\n",
              "      const buttonEl =\n",
              "        document.querySelector('#df-79e3e8dd-1c8e-41d0-8fe3-bc5f67213c24 button.colab-df-convert');\n",
              "      buttonEl.style.display =\n",
              "        google.colab.kernel.accessAllowed ? 'block' : 'none';\n",
              "\n",
              "      async function convertToInteractive(key) {\n",
              "        const element = document.querySelector('#df-79e3e8dd-1c8e-41d0-8fe3-bc5f67213c24');\n",
              "        const dataTable =\n",
              "          await google.colab.kernel.invokeFunction('convertToInteractive',\n",
              "                                                    [key], {});\n",
              "        if (!dataTable) return;\n",
              "\n",
              "        const docLinkHtml = 'Like what you see? Visit the ' +\n",
              "          '<a target=\"_blank\" href=https://colab.research.google.com/notebooks/data_table.ipynb>data table notebook</a>'\n",
              "          + ' to learn more about interactive tables.';\n",
              "        element.innerHTML = '';\n",
              "        dataTable['output_type'] = 'display_data';\n",
              "        await google.colab.output.renderOutput(dataTable, element);\n",
              "        const docLink = document.createElement('div');\n",
              "        docLink.innerHTML = docLinkHtml;\n",
              "        element.appendChild(docLink);\n",
              "      }\n",
              "    </script>\n",
              "  </div>\n",
              "\n",
              "\n",
              "<div id=\"df-4735f3a4-338f-4b41-b4d8-84d1c434e12c\">\n",
              "  <button class=\"colab-df-quickchart\" onclick=\"quickchart('df-4735f3a4-338f-4b41-b4d8-84d1c434e12c')\"\n",
              "            title=\"Suggest charts\"\n",
              "            style=\"display:none;\">\n",
              "\n",
              "<svg xmlns=\"http://www.w3.org/2000/svg\" height=\"24px\"viewBox=\"0 0 24 24\"\n",
              "     width=\"24px\">\n",
              "    <g>\n",
              "        <path d=\"M19 3H5c-1.1 0-2 .9-2 2v14c0 1.1.9 2 2 2h14c1.1 0 2-.9 2-2V5c0-1.1-.9-2-2-2zM9 17H7v-7h2v7zm4 0h-2V7h2v10zm4 0h-2v-4h2v4z\"/>\n",
              "    </g>\n",
              "</svg>\n",
              "  </button>\n",
              "\n",
              "<style>\n",
              "  .colab-df-quickchart {\n",
              "      --bg-color: #E8F0FE;\n",
              "      --fill-color: #1967D2;\n",
              "      --hover-bg-color: #E2EBFA;\n",
              "      --hover-fill-color: #174EA6;\n",
              "      --disabled-fill-color: #AAA;\n",
              "      --disabled-bg-color: #DDD;\n",
              "  }\n",
              "\n",
              "  [theme=dark] .colab-df-quickchart {\n",
              "      --bg-color: #3B4455;\n",
              "      --fill-color: #D2E3FC;\n",
              "      --hover-bg-color: #434B5C;\n",
              "      --hover-fill-color: #FFFFFF;\n",
              "      --disabled-bg-color: #3B4455;\n",
              "      --disabled-fill-color: #666;\n",
              "  }\n",
              "\n",
              "  .colab-df-quickchart {\n",
              "    background-color: var(--bg-color);\n",
              "    border: none;\n",
              "    border-radius: 50%;\n",
              "    cursor: pointer;\n",
              "    display: none;\n",
              "    fill: var(--fill-color);\n",
              "    height: 32px;\n",
              "    padding: 0;\n",
              "    width: 32px;\n",
              "  }\n",
              "\n",
              "  .colab-df-quickchart:hover {\n",
              "    background-color: var(--hover-bg-color);\n",
              "    box-shadow: 0 1px 2px rgba(60, 64, 67, 0.3), 0 1px 3px 1px rgba(60, 64, 67, 0.15);\n",
              "    fill: var(--button-hover-fill-color);\n",
              "  }\n",
              "\n",
              "  .colab-df-quickchart-complete:disabled,\n",
              "  .colab-df-quickchart-complete:disabled:hover {\n",
              "    background-color: var(--disabled-bg-color);\n",
              "    fill: var(--disabled-fill-color);\n",
              "    box-shadow: none;\n",
              "  }\n",
              "\n",
              "  .colab-df-spinner {\n",
              "    border: 2px solid var(--fill-color);\n",
              "    border-color: transparent;\n",
              "    border-bottom-color: var(--fill-color);\n",
              "    animation:\n",
              "      spin 1s steps(1) infinite;\n",
              "  }\n",
              "\n",
              "  @keyframes spin {\n",
              "    0% {\n",
              "      border-color: transparent;\n",
              "      border-bottom-color: var(--fill-color);\n",
              "      border-left-color: var(--fill-color);\n",
              "    }\n",
              "    20% {\n",
              "      border-color: transparent;\n",
              "      border-left-color: var(--fill-color);\n",
              "      border-top-color: var(--fill-color);\n",
              "    }\n",
              "    30% {\n",
              "      border-color: transparent;\n",
              "      border-left-color: var(--fill-color);\n",
              "      border-top-color: var(--fill-color);\n",
              "      border-right-color: var(--fill-color);\n",
              "    }\n",
              "    40% {\n",
              "      border-color: transparent;\n",
              "      border-right-color: var(--fill-color);\n",
              "      border-top-color: var(--fill-color);\n",
              "    }\n",
              "    60% {\n",
              "      border-color: transparent;\n",
              "      border-right-color: var(--fill-color);\n",
              "    }\n",
              "    80% {\n",
              "      border-color: transparent;\n",
              "      border-right-color: var(--fill-color);\n",
              "      border-bottom-color: var(--fill-color);\n",
              "    }\n",
              "    90% {\n",
              "      border-color: transparent;\n",
              "      border-bottom-color: var(--fill-color);\n",
              "    }\n",
              "  }\n",
              "</style>\n",
              "\n",
              "  <script>\n",
              "    async function quickchart(key) {\n",
              "      const quickchartButtonEl =\n",
              "        document.querySelector('#' + key + ' button');\n",
              "      quickchartButtonEl.disabled = true;  // To prevent multiple clicks.\n",
              "      quickchartButtonEl.classList.add('colab-df-spinner');\n",
              "      try {\n",
              "        const charts = await google.colab.kernel.invokeFunction(\n",
              "            'suggestCharts', [key], {});\n",
              "      } catch (error) {\n",
              "        console.error('Error during call to suggestCharts:', error);\n",
              "      }\n",
              "      quickchartButtonEl.classList.remove('colab-df-spinner');\n",
              "      quickchartButtonEl.classList.add('colab-df-quickchart-complete');\n",
              "    }\n",
              "    (() => {\n",
              "      let quickchartButtonEl =\n",
              "        document.querySelector('#df-4735f3a4-338f-4b41-b4d8-84d1c434e12c button');\n",
              "      quickchartButtonEl.style.display =\n",
              "        google.colab.kernel.accessAllowed ? 'block' : 'none';\n",
              "    })();\n",
              "  </script>\n",
              "</div>\n",
              "\n",
              "    </div>\n",
              "  </div>\n"
            ]
          },
          "metadata": {},
          "execution_count": 93
        }
      ]
    },
    {
      "cell_type": "markdown",
      "source": [
        "# Задача 8\n",
        "\n",
        "Если в названии населенного пункта присутствует \"с.\" - то это село. Если не присутствует, то это город. Необходимо создать колонку 'type', в которой в зависимости от типа населенного города будут два значения: 'сity' или 'village'.\n",
        "\n",
        "Покажите графически различия (если они есть) в стоимости земли в селе и городе."
      ],
      "metadata": {
        "id": "06MzXtbIu0Ru"
      }
    },
    {
      "cell_type": "code",
      "source": [],
      "metadata": {
        "id": "eEr57zfqumGd"
      },
      "execution_count": null,
      "outputs": []
    },
    {
      "cell_type": "code",
      "source": [],
      "metadata": {
        "id": "5dt0PWUIumEB"
      },
      "execution_count": null,
      "outputs": []
    },
    {
      "cell_type": "code",
      "source": [],
      "metadata": {
        "id": "Hf3TOB-EwBXM"
      },
      "execution_count": null,
      "outputs": []
    },
    {
      "cell_type": "code",
      "source": [],
      "metadata": {
        "id": "sgi2kbLAwBRy"
      },
      "execution_count": null,
      "outputs": []
    },
    {
      "cell_type": "markdown",
      "source": [
        "# Задача 9\n",
        "\n",
        "Самое время поговорить об оутлаерах или выбросах. Очевидно, что не все данные заполняются корректно в силу человеческого фактора. В них могут присутствовать экстремальные значения, которые можно и нужно удалить применяя статистические функции. Самой распространенной методикой является удаление по перцентилям - по 2.5 - 5 % с каждой стороны.\n",
        "\n",
        "Давайте повыкидываем \"хвосты\" по 3 %, но только не для всего датасета, а по регионам. Само собой разумеется, что слишком маленькая стоимость участка для бишкека не будет ситаться таковой для села Ошской области..))\n",
        "\n",
        "После проведенных операций давайте оценим, как уменьшился наш датасет!"
      ],
      "metadata": {
        "id": "4Arfdilfyb42"
      }
    },
    {
      "cell_type": "code",
      "source": [],
      "metadata": {
        "id": "gBtHoliVwBNu"
      },
      "execution_count": null,
      "outputs": []
    },
    {
      "cell_type": "code",
      "source": [],
      "metadata": {
        "id": "McPslba_wBK9"
      },
      "execution_count": null,
      "outputs": []
    },
    {
      "cell_type": "code",
      "source": [],
      "metadata": {
        "id": "1u1RE690ul69"
      },
      "execution_count": null,
      "outputs": []
    }
  ]
}